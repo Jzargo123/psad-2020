{
 "cells": [
  {
   "cell_type": "code",
   "execution_count": 1,
   "metadata": {},
   "outputs": [
    {
     "name": "stdout",
     "output_type": "stream",
     "text": [
      "enter phystech e-mail\n",
      "akimenkova.ma@phystech.edu\n",
      "Your tasks are 1.2, 2.3, 3.2, 4.3\n"
     ]
    }
   ],
   "source": [
    "from zlib import crc32\n",
    "import numpy as np\n",
    "\n",
    "if __name__=='__main__':\n",
    "    mail = input('enter phystech e-mail\\n') \n",
    "    to_hash =  mail.strip().split('@')[0]    \n",
    "    h = crc32(to_hash.encode('utf-8'))\n",
    "    seed = h%(2**32-1)\n",
    "    rs = np.random.RandomState(seed)\n",
    "    task1 = rs.randint(low=1, high=5)\n",
    "    task2 = rs.randint(low=1, high=5)\n",
    "    task3 = rs.randint(low=1, high=5)\n",
    "    task4 = rs.randint(low=1, high=4)\n",
    "    print ('Your tasks are 1.{}, 2.{}, 3.{}, 4.{}'.format(task1, task2, task3, task4))"
   ]
  },
  {
   "cell_type": "code",
   "execution_count": 17,
   "metadata": {},
   "outputs": [],
   "source": [
    "import scipy.stats as st\n",
    "import numpy as np\n",
    "import pandas as pd\n",
    "import matplotlib.pyplot as plt\n",
    "import seaborn as sns\n",
    "sns.set()\n",
    "from sklearn.datasets import load_iris\n",
    "import statsmodels.stats.api as sms\n",
    "from arch.bootstrap import IndependentSamplesBootstrap"
   ]
  },
  {
   "cell_type": "markdown",
   "metadata": {},
   "source": [
    "# Задача 1.2"
   ]
  },
  {
   "cell_type": "markdown",
   "metadata": {},
   "source": [
    "Задана выборка описаний 150 экземпляров ириса разных видов. Описание каждого ириса состоит из четырех признаков:\n",
    "\n",
    "Длина наружной доли околоцветника (англ. sepal length);\n",
    "Ширина наружной доли околоцветника (англ. sepal width);\n",
    "Длина внутренней доли околоцветника (англ. petal length);\n",
    "Ширина внутренней доли околоцветника (англ. petal width)."
   ]
  },
  {
   "cell_type": "markdown",
   "metadata": {},
   "source": [
    "Требуется определить насколько в среднем различается каждая из этих характеристик между разными видами.\n",
    "\n",
    "Для каждой из данных характеристик выбрать подходящий размер эффекта из https://en.wikipedia.org/wiki/Effect_size#Types."
   ]
  },
  {
   "cell_type": "markdown",
   "metadata": {},
   "source": [
    "#### Выборка:"
   ]
  },
  {
   "cell_type": "code",
   "execution_count": 84,
   "metadata": {},
   "outputs": [],
   "source": [
    "iris_X, iris_species= load_iris(return_X_y=True)"
   ]
  },
  {
   "cell_type": "code",
   "execution_count": 85,
   "metadata": {},
   "outputs": [],
   "source": [
    "X = pd.DataFrame(iris_X)\n",
    "X.columns = ['sepal_length', 'sepal_width', 'petal_length', 'petal_width']"
   ]
  },
  {
   "cell_type": "code",
   "execution_count": 86,
   "metadata": {},
   "outputs": [],
   "source": [
    "X['species'] = iris_species"
   ]
  },
  {
   "cell_type": "code",
   "execution_count": 87,
   "metadata": {},
   "outputs": [
    {
     "data": {
      "text/html": [
       "<div>\n",
       "<style scoped>\n",
       "    .dataframe tbody tr th:only-of-type {\n",
       "        vertical-align: middle;\n",
       "    }\n",
       "\n",
       "    .dataframe tbody tr th {\n",
       "        vertical-align: top;\n",
       "    }\n",
       "\n",
       "    .dataframe thead th {\n",
       "        text-align: right;\n",
       "    }\n",
       "</style>\n",
       "<table border=\"1\" class=\"dataframe\">\n",
       "  <thead>\n",
       "    <tr style=\"text-align: right;\">\n",
       "      <th></th>\n",
       "      <th>sepal_length</th>\n",
       "      <th>sepal_width</th>\n",
       "      <th>petal_length</th>\n",
       "      <th>petal_width</th>\n",
       "      <th>species</th>\n",
       "    </tr>\n",
       "  </thead>\n",
       "  <tbody>\n",
       "    <tr>\n",
       "      <td>0</td>\n",
       "      <td>5.1</td>\n",
       "      <td>3.5</td>\n",
       "      <td>1.4</td>\n",
       "      <td>0.2</td>\n",
       "      <td>0</td>\n",
       "    </tr>\n",
       "    <tr>\n",
       "      <td>1</td>\n",
       "      <td>4.9</td>\n",
       "      <td>3.0</td>\n",
       "      <td>1.4</td>\n",
       "      <td>0.2</td>\n",
       "      <td>0</td>\n",
       "    </tr>\n",
       "    <tr>\n",
       "      <td>2</td>\n",
       "      <td>4.7</td>\n",
       "      <td>3.2</td>\n",
       "      <td>1.3</td>\n",
       "      <td>0.2</td>\n",
       "      <td>0</td>\n",
       "    </tr>\n",
       "    <tr>\n",
       "      <td>3</td>\n",
       "      <td>4.6</td>\n",
       "      <td>3.1</td>\n",
       "      <td>1.5</td>\n",
       "      <td>0.2</td>\n",
       "      <td>0</td>\n",
       "    </tr>\n",
       "    <tr>\n",
       "      <td>4</td>\n",
       "      <td>5.0</td>\n",
       "      <td>3.6</td>\n",
       "      <td>1.4</td>\n",
       "      <td>0.2</td>\n",
       "      <td>0</td>\n",
       "    </tr>\n",
       "  </tbody>\n",
       "</table>\n",
       "</div>"
      ],
      "text/plain": [
       "   sepal_length  sepal_width  petal_length  petal_width  species\n",
       "0           5.1          3.5           1.4          0.2        0\n",
       "1           4.9          3.0           1.4          0.2        0\n",
       "2           4.7          3.2           1.3          0.2        0\n",
       "3           4.6          3.1           1.5          0.2        0\n",
       "4           5.0          3.6           1.4          0.2        0"
      ]
     },
     "execution_count": 87,
     "metadata": {},
     "output_type": "execute_result"
    }
   ],
   "source": [
    "X.head()"
   ]
  },
  {
   "cell_type": "markdown",
   "metadata": {},
   "source": [
    "#### Построим boxplot"
   ]
  },
  {
   "cell_type": "code",
   "execution_count": 88,
   "metadata": {},
   "outputs": [
    {
     "data": {
      "text/html": [
       "<div>\n",
       "<style scoped>\n",
       "    .dataframe tbody tr th:only-of-type {\n",
       "        vertical-align: middle;\n",
       "    }\n",
       "\n",
       "    .dataframe tbody tr th {\n",
       "        vertical-align: top;\n",
       "    }\n",
       "\n",
       "    .dataframe thead th {\n",
       "        text-align: right;\n",
       "    }\n",
       "</style>\n",
       "<table border=\"1\" class=\"dataframe\">\n",
       "  <thead>\n",
       "    <tr style=\"text-align: right;\">\n",
       "      <th></th>\n",
       "      <th>species</th>\n",
       "      <th>x</th>\n",
       "      <th>y</th>\n",
       "    </tr>\n",
       "  </thead>\n",
       "  <tbody>\n",
       "    <tr>\n",
       "      <td>0</td>\n",
       "      <td>0</td>\n",
       "      <td>sepal_length</td>\n",
       "      <td>5.1</td>\n",
       "    </tr>\n",
       "    <tr>\n",
       "      <td>1</td>\n",
       "      <td>0</td>\n",
       "      <td>sepal_length</td>\n",
       "      <td>4.9</td>\n",
       "    </tr>\n",
       "    <tr>\n",
       "      <td>2</td>\n",
       "      <td>0</td>\n",
       "      <td>sepal_length</td>\n",
       "      <td>4.7</td>\n",
       "    </tr>\n",
       "    <tr>\n",
       "      <td>3</td>\n",
       "      <td>0</td>\n",
       "      <td>sepal_length</td>\n",
       "      <td>4.6</td>\n",
       "    </tr>\n",
       "    <tr>\n",
       "      <td>4</td>\n",
       "      <td>0</td>\n",
       "      <td>sepal_length</td>\n",
       "      <td>5.0</td>\n",
       "    </tr>\n",
       "  </tbody>\n",
       "</table>\n",
       "</div>"
      ],
      "text/plain": [
       "   species             x    y\n",
       "0        0  sepal_length  5.1\n",
       "1        0  sepal_length  4.9\n",
       "2        0  sepal_length  4.7\n",
       "3        0  sepal_length  4.6\n",
       "4        0  sepal_length  5.0"
      ]
     },
     "execution_count": 88,
     "metadata": {},
     "output_type": "execute_result"
    }
   ],
   "source": [
    "X_melt = X.melt(id_vars=[\"species\"], \n",
    "                  value_vars=X.columns[:-1], \n",
    "                  var_name=\"x\",\n",
    "                  value_name=\"y\") \n",
    "X_melt.head()"
   ]
  },
  {
   "cell_type": "code",
   "execution_count": 89,
   "metadata": {},
   "outputs": [
    {
     "data": {
      "text/plain": [
       "<matplotlib.axes._subplots.AxesSubplot at 0x7fb263b55748>"
      ]
     },
     "execution_count": 89,
     "metadata": {},
     "output_type": "execute_result"
    },
    {
     "data": {
      "image/png": "[encoded data removed]",
      "text/plain": [
       "<Figure size 936x576 with 1 Axes>"
      ]
     },
     "metadata": {},
     "output_type": "display_data"
    }
   ],
   "source": [
    "plt.figure(figsize=(13, 8)) \n",
    "sns.boxplot(x=\"x\", y=\"y\",\n",
    "            hue=\"species\",\n",
    "            data=X_melt)"
   ]
  },
  {
   "cell_type": "markdown",
   "metadata": {},
   "source": [
    "Видно, что все характеристики, кроме sepal_width, довольно сильно различаются между видами."
   ]
  },
  {
   "cell_type": "markdown",
   "metadata": {},
   "source": [
    "#### Проверим подвыборки на нормальность с помощью теста Шапиро."
   ]
  },
  {
   "cell_type": "markdown",
   "metadata": {},
   "source": [
    "Для вида 0"
   ]
  },
  {
   "cell_type": "code",
   "execution_count": 111,
   "metadata": {},
   "outputs": [],
   "source": [
    "X0 = X[X['species']==0]"
   ]
  },
  {
   "cell_type": "code",
   "execution_count": 127,
   "metadata": {},
   "outputs": [
    {
     "name": "stdout",
     "output_type": "stream",
     "text": [
      "sepal length:\n",
      "(0.9776989221572876, 0.4595281183719635)\n",
      "\n",
      "\n",
      "sepal width:\n",
      "(0.97171950340271, 0.2715264856815338)\n",
      "\n",
      "\n",
      "petal length:\n",
      "(0.9549766182899475, 0.05481043830513954)\n",
      "\n",
      "\n",
      "petal width:\n",
      "(0.7997642159461975, 8.65842082475865e-07)\n"
     ]
    }
   ],
   "source": [
    "print('sepal length:')\n",
    "print(st.shapiro(X0['sepal_length'].values))\n",
    "print('\\n')\n",
    "print('sepal width:')\n",
    "print(st.shapiro(X0['sepal_width'].values))\n",
    "print('\\n')\n",
    "print('petal length:')\n",
    "print(st.shapiro(X0['petal_length'].values))\n",
    "print('\\n')\n",
    "print('petal width:')\n",
    "print(st.shapiro(X0['petal_width'].values))"
   ]
  },
  {
   "cell_type": "markdown",
   "metadata": {},
   "source": [
    "Для вида 1"
   ]
  },
  {
   "cell_type": "code",
   "execution_count": 128,
   "metadata": {},
   "outputs": [],
   "source": [
    "X1 = X[X['species']==1]"
   ]
  },
  {
   "cell_type": "code",
   "execution_count": 129,
   "metadata": {},
   "outputs": [
    {
     "name": "stdout",
     "output_type": "stream",
     "text": [
      "sepal length:\n",
      "(0.9778355956077576, 0.46473264694213867)\n",
      "\n",
      "\n",
      "sepal width:\n",
      "(0.9741330742835999, 0.33798879384994507)\n",
      "\n",
      "\n",
      "petal length:\n",
      "(0.9660047888755798, 0.1584833413362503)\n",
      "\n",
      "\n",
      "petal width:\n",
      "(0.947626531124115, 0.027278218418359756)\n"
     ]
    }
   ],
   "source": [
    "print('sepal length:')\n",
    "print(st.shapiro(X1['sepal_length'].values))\n",
    "print('\\n')\n",
    "print('sepal width:')\n",
    "print(st.shapiro(X1['sepal_width'].values))\n",
    "print('\\n')\n",
    "print('petal length:')\n",
    "print(st.shapiro(X1['petal_length'].values))\n",
    "print('\\n')\n",
    "print('petal width:')\n",
    "print(st.shapiro(X1['petal_width'].values))"
   ]
  },
  {
   "cell_type": "markdown",
   "metadata": {},
   "source": [
    "Для вида 2"
   ]
  },
  {
   "cell_type": "code",
   "execution_count": 130,
   "metadata": {},
   "outputs": [],
   "source": [
    "X2 = X[X['species']==2]"
   ]
  },
  {
   "cell_type": "code",
   "execution_count": 131,
   "metadata": {},
   "outputs": [
    {
     "name": "stdout",
     "output_type": "stream",
     "text": [
      "sepal length:\n",
      "(0.9711798429489136, 0.25832483172416687)\n",
      "\n",
      "\n",
      "sepal width:\n",
      "(0.9673910140991211, 0.1809043288230896)\n",
      "\n",
      "\n",
      "petal length:\n",
      "(0.9621862769126892, 0.10977369546890259)\n",
      "\n",
      "\n",
      "petal width:\n",
      "(0.9597718715667725, 0.08695744723081589)\n"
     ]
    }
   ],
   "source": [
    "print('sepal length:')\n",
    "print(st.shapiro(X2['sepal_length'].values))\n",
    "print('\\n')\n",
    "print('sepal width:')\n",
    "print(st.shapiro(X2['sepal_width'].values))\n",
    "print('\\n')\n",
    "print('petal length:')\n",
    "print(st.shapiro(X2['petal_length'].values))\n",
    "print('\\n')\n",
    "print('petal width:')\n",
    "print(st.shapiro(X2['petal_width'].values))"
   ]
  },
  {
   "cell_type": "markdown",
   "metadata": {},
   "source": [
    "#### Определим среднее значение для каждого признака"
   ]
  },
  {
   "cell_type": "code",
   "execution_count": 135,
   "metadata": {},
   "outputs": [
    {
     "data": {
      "text/plain": [
       "sepal_length    5.006\n",
       "sepal_width     3.428\n",
       "petal_length    1.462\n",
       "petal_width     0.246\n",
       "species         0.000\n",
       "dtype: float64"
      ]
     },
     "execution_count": 135,
     "metadata": {},
     "output_type": "execute_result"
    }
   ],
   "source": [
    "X0_mean = np.mean(X0, axis = 0)\n",
    "X0_mean"
   ]
  },
  {
   "cell_type": "code",
   "execution_count": 136,
   "metadata": {},
   "outputs": [
    {
     "data": {
      "text/plain": [
       "sepal_length    5.936\n",
       "sepal_width     2.770\n",
       "petal_length    4.260\n",
       "petal_width     1.326\n",
       "species         1.000\n",
       "dtype: float64"
      ]
     },
     "execution_count": 136,
     "metadata": {},
     "output_type": "execute_result"
    }
   ],
   "source": [
    "X1_mean = np.mean(X1, axis = 0)\n",
    "X1_mean"
   ]
  },
  {
   "cell_type": "code",
   "execution_count": 137,
   "metadata": {},
   "outputs": [
    {
     "data": {
      "text/plain": [
       "sepal_length    6.588\n",
       "sepal_width     2.974\n",
       "petal_length    5.552\n",
       "petal_width     2.026\n",
       "species         2.000\n",
       "dtype: float64"
      ]
     },
     "execution_count": 137,
     "metadata": {},
     "output_type": "execute_result"
    }
   ],
   "source": [
    "X2_mean = np.mean(X2, axis = 0)\n",
    "X2_mean"
   ]
  },
  {
   "cell_type": "code",
   "execution_count": 138,
   "metadata": {},
   "outputs": [],
   "source": [
    "mean01 = X0_mean-X1_mean\n",
    "mean12 = X1_mean-X2_mean\n",
    "mean02 = X0_mean-X2_mean"
   ]
  },
  {
   "cell_type": "code",
   "execution_count": 139,
   "metadata": {},
   "outputs": [
    {
     "name": "stdout",
     "output_type": "stream",
     "text": [
      "sepal_length   -0.930\n",
      "sepal_width     0.658\n",
      "petal_length   -2.798\n",
      "petal_width    -1.080\n",
      "species        -1.000\n",
      "dtype: float64\n",
      "sepal_length   -0.652\n",
      "sepal_width    -0.204\n",
      "petal_length   -1.292\n",
      "petal_width    -0.700\n",
      "species        -1.000\n",
      "dtype: float64\n",
      "sepal_length   -1.582\n",
      "sepal_width     0.454\n",
      "petal_length   -4.090\n",
      "petal_width    -1.780\n",
      "species        -2.000\n",
      "dtype: float64\n"
     ]
    }
   ],
   "source": [
    "print(mean01)\n",
    "print(mean12)\n",
    "print(mean02)"
   ]
  },
  {
   "cell_type": "markdown",
   "metadata": {},
   "source": [
    "#### Стандартное отклонение"
   ]
  },
  {
   "cell_type": "code",
   "execution_count": 140,
   "metadata": {},
   "outputs": [],
   "source": [
    "X0_std = np.std(X0, axis = 0)\n",
    "X1_std = np.std(X1, axis = 0)\n",
    "X2_std = np.std(X2, axis = 0)"
   ]
  },
  {
   "cell_type": "code",
   "execution_count": 141,
   "metadata": {},
   "outputs": [
    {
     "name": "stdout",
     "output_type": "stream",
     "text": [
      "sepal_length    0.348947\n",
      "sepal_width     0.375255\n",
      "petal_length    0.171919\n",
      "petal_width     0.104326\n",
      "species         0.000000\n",
      "dtype: float64\n",
      "sepal_length    0.510983\n",
      "sepal_width     0.310644\n",
      "petal_length    0.465188\n",
      "petal_width     0.195765\n",
      "species         0.000000\n",
      "dtype: float64\n",
      "sepal_length    0.629489\n",
      "sepal_width     0.319255\n",
      "petal_length    0.546348\n",
      "petal_width     0.271890\n",
      "species         0.000000\n",
      "dtype: float64\n"
     ]
    }
   ],
   "source": [
    "print(X0_std)\n",
    "print(X1_std)\n",
    "print(X2_std)"
   ]
  },
  {
   "cell_type": "markdown",
   "metadata": {},
   "source": [
    "#### Посчитаем размер эффекта Cohen"
   ]
  },
  {
   "attachments": {
    "image.png": {
     "image/png": "[encoded data removed]"
    }
   },
   "cell_type": "markdown",
   "metadata": {},
   "source": [
    "![image.png](attachment:image.png)"
   ]
  },
  {
   "cell_type": "code",
   "execution_count": 142,
   "metadata": {},
   "outputs": [],
   "source": [
    "def effect_size(x1, x2):\n",
    "    s = np.sqrt(((len(x1) - 1) * np.std(x1, ddof=1)**2 \\\n",
    "                 + (len(x2) - 1) * np.std(x2, ddof=1)**2) \\\n",
    "                /(len(x1) + len(x2) - 2))\n",
    "    return np.abs((np.mean(x1) - np.mean(x2))/s)"
   ]
  },
  {
   "cell_type": "markdown",
   "metadata": {},
   "source": [
    "Вид 0 vs вид 1"
   ]
  },
  {
   "cell_type": "code",
   "execution_count": 143,
   "metadata": {},
   "outputs": [
    {
     "data": {
      "text/plain": [
       "sepal_length    2.104197\n",
       "sepal_width     1.890995\n",
       "petal_length    7.898544\n",
       "petal_width     6.816068\n",
       "species              inf\n",
       "dtype: float64"
      ]
     },
     "execution_count": 143,
     "metadata": {},
     "output_type": "execute_result"
    }
   ],
   "source": [
    "effect_size(X0, X1)"
   ]
  },
  {
   "cell_type": "markdown",
   "metadata": {},
   "source": [
    "Вид 0 vs 2"
   ]
  },
  {
   "cell_type": "code",
   "execution_count": 148,
   "metadata": {},
   "outputs": [
    {
     "data": {
      "text/plain": [
       "sepal_length    3.077239\n",
       "sepal_width     1.290070\n",
       "petal_length    9.997237\n",
       "petal_width     8.557160\n",
       "species              inf\n",
       "dtype: float64"
      ]
     },
     "execution_count": 148,
     "metadata": {},
     "output_type": "execute_result"
    }
   ],
   "source": [
    "effect_size(X0, X2)"
   ]
  },
  {
   "cell_type": "markdown",
   "metadata": {},
   "source": [
    "Вид 1 vs 2"
   ]
  },
  {
   "cell_type": "code",
   "execution_count": 149,
   "metadata": {},
   "outputs": [
    {
     "data": {
      "text/plain": [
       "sepal_length    1.125833\n",
       "sepal_width     0.641152\n",
       "petal_length    2.520756\n",
       "petal_width     2.925073\n",
       "species              inf\n",
       "dtype: float64"
      ]
     },
     "execution_count": 149,
     "metadata": {},
     "output_type": "execute_result"
    }
   ],
   "source": [
    "effect_size(X1, X2)"
   ]
  },
  {
   "cell_type": "markdown",
   "metadata": {},
   "source": [
    "### Как видно по таблице, размер эффекта во всех случаях получился большой, значит характеристики в среднем сильно отличаются между собой между различными видами."
   ]
  }
 ],
 "metadata": {
  "kernelspec": {
   "display_name": "Python 3",
   "language": "python",
   "name": "python3"
  },
  "language_info": {
   "codemirror_mode": {
    "name": "ipython",
    "version": 3
   },
   "file_extension": ".py",
   "mimetype": "text/x-python",
   "name": "python",
   "nbconvert_exporter": "python",
   "pygments_lexer": "ipython3",
   "version": "3.6.9"
  }
 },
 "nbformat": 4,
 "nbformat_minor": 2
}
