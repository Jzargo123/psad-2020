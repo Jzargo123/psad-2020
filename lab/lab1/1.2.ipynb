{
 "cells": [
  {
   "cell_type": "code",
   "execution_count": 16,
   "metadata": {},
   "outputs": [],
   "source": [
    "from sklearn import datasets\n",
    "import numpy as np\n",
    "X, Y = datasets.load_iris(return_X_y=True)"
   ]
  },
  {
   "cell_type": "code",
   "execution_count": 17,
   "metadata": {},
   "outputs": [],
   "source": [
    "# выделение 3 классов отдельно\n",
    "type1, type2, type3 = X[0:50], X[50:100], X[100:150]"
   ]
  },
  {
   "cell_type": "code",
   "execution_count": 23,
   "metadata": {},
   "outputs": [],
   "source": [
    "# определение среднего значения для каждого признака\n",
    "type1_m = np.mean(type1, axis = 0)\n",
    "type2_m = np.mean(type2, axis = 0)\n",
    "type3_m = np.mean(type3, axis = 0)"
   ]
  },
  {
   "cell_type": "code",
   "execution_count": 24,
   "metadata": {},
   "outputs": [],
   "source": [
    "# разница между средними для каждого признака между определенными классами\n",
    "difference_1vs2 = type1_m-type2_m\n",
    "difference_2vs3 = type2_m-type3_m\n",
    "difference_1vs3 = type1_m-type3_m"
   ]
  },
  {
   "cell_type": "code",
   "execution_count": 28,
   "metadata": {},
   "outputs": [],
   "source": [
    "# std для каждого признака и для каждого из классов\n",
    "type1_std = np.std(type1, axis = 0)\n",
    "type2_std = np.std(type2, axis = 0)\n",
    "type3_std = np.std(type3, axis = 0)"
   ]
  },
  {
   "cell_type": "code",
   "execution_count": 33,
   "metadata": {},
   "outputs": [],
   "source": [
    "# according to Cohen's, define pooled standard deviation\n",
    "std_1plus2 = np.sqrt((49/98)*(type1_std**2 + type2_std**2))\n",
    "std_1plus3 = np.sqrt((49/98)*(type1_std**2 + type3_std**2))\n",
    "std_2plus3 = np.sqrt((49/98)*(type2_std**2 + type3_std**2))"
   ]
  },
  {
   "cell_type": "code",
   "execution_count": 34,
   "metadata": {},
   "outputs": [],
   "source": [
    "# according to Cohen's, count effect size\n",
    "effect_size_1vs2 = difference_1vs2/std_1plus2\n",
    "effect_size_1vs3 = difference_1vs3/std_1plus3\n",
    "effect_size_2vs3 = difference_2vs3/std_2plus3"
   ]
  },
  {
   "cell_type": "code",
   "execution_count": 43,
   "metadata": {},
   "outputs": [
    {
     "name": "stdout",
     "output_type": "stream",
     "text": [
      "[-2.12556021  1.91019358 -7.9787342  -6.88526875]\n",
      "[ -3.10848097   1.30316731 -10.09873465  -8.64403645]\n",
      "[-1.13726312 -0.64766148 -2.54634797 -2.95477035]\n"
     ]
    }
   ],
   "source": [
    "print(effect_size_1vs2)\n",
    "print(effect_size_1vs3)\n",
    "print(effect_size_2vs3)"
   ]
  }
 ],
 "metadata": {
  "kernelspec": {
   "display_name": "Python 3",
   "language": "python",
   "name": "python3"
  },
  "language_info": {
   "codemirror_mode": {
    "name": "ipython",
    "version": 3
   },
   "file_extension": ".py",
   "mimetype": "text/x-python",
   "name": "python",
   "nbconvert_exporter": "python",
   "pygments_lexer": "ipython3",
   "version": "3.7.3"
  }
 },
 "nbformat": 4,
 "nbformat_minor": 2
}
