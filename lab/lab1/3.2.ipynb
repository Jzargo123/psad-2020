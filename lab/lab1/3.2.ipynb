{
 "cells": [
  {
   "cell_type": "markdown",
   "metadata": {},
   "source": [
    "# Задача 3.2\n",
    "Дана статистика бросков для игроков NBA\n",
    "\n",
    "Выборка представляет собой статистику бросков для различных игроков NBA. Для каждого игрока известны:\n",
    "\n",
    "- количество успешных бросков в домашних играх (score_home)\n",
    "- количество бросков в домашних играх (atm_home)\n",
    "- количество успешных бросков в гостевых играх (score_away)\n",
    "- количество бросков в гостевых играх (atm_away)\n",
    "\n",
    "Требуется определить, есть ли разница в успехе бросков у игроков в домашних и гостевых играх.\n",
    "\n",
    "У какого процента игроков разница в успехе существенна?"
   ]
  },
  {
   "cell_type": "markdown",
   "metadata": {},
   "source": [
    "# Решение"
   ]
  },
  {
   "cell_type": "markdown",
   "metadata": {},
   "source": [
    "## 1) Считываем данные"
   ]
  },
  {
   "cell_type": "code",
   "execution_count": 7,
   "metadata": {},
   "outputs": [],
   "source": [
    "import pandas as pd\n",
    "import numpy as np"
   ]
  },
  {
   "cell_type": "code",
   "execution_count": 22,
   "metadata": {
    "scrolled": false
   },
   "outputs": [
    {
     "data": {
      "text/html": [
       "<div>\n",
       "<style scoped>\n",
       "    .dataframe tbody tr th:only-of-type {\n",
       "        vertical-align: middle;\n",
       "    }\n",
       "\n",
       "    .dataframe tbody tr th {\n",
       "        vertical-align: top;\n",
       "    }\n",
       "\n",
       "    .dataframe thead th {\n",
       "        text-align: right;\n",
       "    }\n",
       "</style>\n",
       "<table border=\"1\" class=\"dataframe\">\n",
       "  <thead>\n",
       "    <tr style=\"text-align: right;\">\n",
       "      <th></th>\n",
       "      <th>Unnamed: 0</th>\n",
       "      <th>player</th>\n",
       "      <th>team</th>\n",
       "      <th>atm_away</th>\n",
       "      <th>atm_home</th>\n",
       "      <th>score_away</th>\n",
       "      <th>score_home</th>\n",
       "      <th>atm_total</th>\n",
       "      <th>score_total</th>\n",
       "    </tr>\n",
       "  </thead>\n",
       "  <tbody>\n",
       "    <tr>\n",
       "      <th>0</th>\n",
       "      <td>7</td>\n",
       "      <td>A. Johnson</td>\n",
       "      <td>ATL</td>\n",
       "      <td>30</td>\n",
       "      <td>34</td>\n",
       "      <td>24</td>\n",
       "      <td>28</td>\n",
       "      <td>64</td>\n",
       "      <td>52</td>\n",
       "    </tr>\n",
       "    <tr>\n",
       "      <th>1</th>\n",
       "      <td>10</td>\n",
       "      <td>A. Johnson</td>\n",
       "      <td>TOR</td>\n",
       "      <td>63</td>\n",
       "      <td>57</td>\n",
       "      <td>44</td>\n",
       "      <td>38</td>\n",
       "      <td>120</td>\n",
       "      <td>82</td>\n",
       "    </tr>\n",
       "    <tr>\n",
       "      <th>2</th>\n",
       "      <td>15</td>\n",
       "      <td>Abdur-Rahim</td>\n",
       "      <td>SAC</td>\n",
       "      <td>114</td>\n",
       "      <td>124</td>\n",
       "      <td>84</td>\n",
       "      <td>90</td>\n",
       "      <td>238</td>\n",
       "      <td>174</td>\n",
       "    </tr>\n",
       "    <tr>\n",
       "      <th>3</th>\n",
       "      <td>22</td>\n",
       "      <td>Afflalo</td>\n",
       "      <td>DEN</td>\n",
       "      <td>236</td>\n",
       "      <td>284</td>\n",
       "      <td>189</td>\n",
       "      <td>227</td>\n",
       "      <td>520</td>\n",
       "      <td>416</td>\n",
       "    </tr>\n",
       "    <tr>\n",
       "      <th>4</th>\n",
       "      <td>23</td>\n",
       "      <td>Afflalo</td>\n",
       "      <td>DET</td>\n",
       "      <td>75</td>\n",
       "      <td>88</td>\n",
       "      <td>62</td>\n",
       "      <td>67</td>\n",
       "      <td>163</td>\n",
       "      <td>129</td>\n",
       "    </tr>\n",
       "  </tbody>\n",
       "</table>\n",
       "</div>"
      ],
      "text/plain": [
       "   Unnamed: 0       player team  atm_away  atm_home  score_away  score_home  \\\n",
       "0           7   A. Johnson  ATL        30        34          24          28   \n",
       "1          10   A. Johnson  TOR        63        57          44          38   \n",
       "2          15  Abdur-Rahim  SAC       114       124          84          90   \n",
       "3          22      Afflalo  DEN       236       284         189         227   \n",
       "4          23      Afflalo  DET        75        88          62          67   \n",
       "\n",
       "   atm_total  score_total  \n",
       "0         64           52  \n",
       "1        120           82  \n",
       "2        238          174  \n",
       "3        520          416  \n",
       "4        163          129  "
      ]
     },
     "execution_count": 22,
     "metadata": {},
     "output_type": "execute_result"
    }
   ],
   "source": [
    "data = pd.read_csv(\"data/nba.csv\")\n",
    "all_home = data.atm_home.values\n",
    "suc_home = data.score_home.values\n",
    "all_away = data.atm_away.values\n",
    "suc_away = data.score_away.values\n",
    "data.head()"
   ]
  },
  {
   "cell_type": "code",
   "execution_count": 23,
   "metadata": {},
   "outputs": [
    {
     "data": {
      "text/plain": [
       "(0, 0, 0, 0)"
      ]
     },
     "execution_count": 23,
     "metadata": {},
     "output_type": "execute_result"
    }
   ],
   "source": [
    "sum(all_home == 0), sum(suc_home == 0), sum(all_away == 0), sum(suc_away == 0)"
   ]
  },
  {
   "cell_type": "markdown",
   "metadata": {},
   "source": [
    "## 2) Описание метода"
   ]
  },
  {
   "cell_type": "markdown",
   "metadata": {},
   "source": [
    "Для каждого игрока имеем по 2 выборки бинарных переменных. Чтобы сравнить эффективности попадания воспользуемся стандартным $Z$-критерием для разности двух долей (независимые выборки). Таким образом, для каждого игрока получим p-value. После поправки (Холма) на множественное тестирование найдем игроков, у которых частота попаданий в домашних и гостевых играх отличается статистически значимо."
   ]
  },
  {
   "cell_type": "code",
   "execution_count": 25,
   "metadata": {},
   "outputs": [],
   "source": [
    "from statsmodels.stats.proportion import proportions_ztest\n",
    "from statsmodels.sandbox.stats.multicomp import multipletests"
   ]
  },
  {
   "cell_type": "code",
   "execution_count": 59,
   "metadata": {},
   "outputs": [],
   "source": [
    "p_values = np.array([proportions_ztest([suc_home[i], suc_away[i]], [all_home[i], all_away[i]])[1] \n",
    "          for i in range(len(all_home))])"
   ]
  },
  {
   "cell_type": "code",
   "execution_count": 69,
   "metadata": {},
   "outputs": [
    {
     "data": {
      "text/plain": [
       "(65, 936, 0.06944444444444445)"
      ]
     },
     "execution_count": 69,
     "metadata": {},
     "output_type": "execute_result"
    }
   ],
   "source": [
    "sum(p_values < 0.05), len(p_values), sum(p_values < 0.05)/len(p_values)"
   ]
  },
  {
   "cell_type": "code",
   "execution_count": 61,
   "metadata": {},
   "outputs": [],
   "source": [
    "rejected, p_values_corrected, _, __ = multipletests(p_values, method=\"holm\")"
   ]
  },
  {
   "cell_type": "code",
   "execution_count": 62,
   "metadata": {},
   "outputs": [
    {
     "data": {
      "text/plain": [
       "0"
      ]
     },
     "execution_count": 62,
     "metadata": {},
     "output_type": "execute_result"
    }
   ],
   "source": [
    "sum(rejected)"
   ]
  },
  {
   "cell_type": "markdown",
   "metadata": {},
   "source": [
    "Ни одного не отверглось, попробуем более мягкие поправки"
   ]
  },
  {
   "cell_type": "code",
   "execution_count": 63,
   "metadata": {},
   "outputs": [],
   "source": [
    "rejected, p_values_corrected, _, __ = multipletests(p_values, method=\"fdr_bh\")"
   ]
  },
  {
   "cell_type": "code",
   "execution_count": 64,
   "metadata": {
    "scrolled": true
   },
   "outputs": [
    {
     "data": {
      "text/plain": [
       "0"
      ]
     },
     "execution_count": 64,
     "metadata": {},
     "output_type": "execute_result"
    }
   ],
   "source": [
    "sum(rejected)"
   ]
  },
  {
   "cell_type": "code",
   "execution_count": 65,
   "metadata": {},
   "outputs": [],
   "source": [
    "rejected, p_values_corrected, _, __ = multipletests(p_values, method=\"fdr_by\")"
   ]
  },
  {
   "cell_type": "code",
   "execution_count": 66,
   "metadata": {},
   "outputs": [
    {
     "data": {
      "text/plain": [
       "0"
      ]
     },
     "execution_count": 66,
     "metadata": {},
     "output_type": "execute_result"
    }
   ],
   "source": [
    "sum(rejected)"
   ]
  },
  {
   "cell_type": "markdown",
   "metadata": {},
   "source": [
    "# Вывод\n",
    "Таким образом не нашлось ни одного игрока, у которого бы частоты попаданий в домашних и гостевых играх отличались бы статистически значимо."
   ]
  }
 ],
 "metadata": {
  "kernelspec": {
   "display_name": "Python 3",
   "language": "python",
   "name": "python3"
  },
  "language_info": {
   "codemirror_mode": {
    "name": "ipython",
    "version": 3
   },
   "file_extension": ".py",
   "mimetype": "text/x-python",
   "name": "python",
   "nbconvert_exporter": "python",
   "pygments_lexer": "ipython3",
   "version": "3.7.3"
  }
 },
 "nbformat": 4,
 "nbformat_minor": 2
}
