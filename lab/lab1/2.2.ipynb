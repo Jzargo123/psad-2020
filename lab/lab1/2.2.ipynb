{
 "cells": [
  {
   "cell_type": "markdown",
   "metadata": {},
   "source": [
    "# Задача 2.2\n",
    "Рассмотрим фирму, которая занимается продажей лотерейных билетов. Правила лотереи следующее: все билеты являются выигрышными с вероятностью p. Билеты продаются до тех пор, пока хоть один человек не выиграет (гарантируется, что как только билет купили и он выигрышный, больше билетов не продают). Из-за вспышки коронавируса все заводы закрылись, а с ними и знание заветного p также пропало. Фирма хочет восстановить p, имея отчет о продажах билетов за последнии 5 месяцев: 8 билетов, 12 билетов, 7 билетов, 6 билетов и 12 билетов.\n",
    "\n",
    "Требуется:\n",
    "\n",
    " - Оцените методом максимального правдоподобия параметр p0.\n",
    " \n",
    "Теперь фирма нашла на складе несколько ящиков c билетами, которые вы можете использовать для проверки гипотезы о том, что истинное p равняется p0 — оценке максимального правдоподобия из предыдущего пункта. Для проверки был предложен следующий эксперимент: последовательно вскрываются n = 100 билетов, и проводился подсчет: сколько выигрышных билетов было из данных N штук. Данный эксперимент проводился 10 раз и были получены следующие результаты: 13, 8, 11, 10, 11, 12, 7, 9, 10, 9.\n",
    "\n",
    " - записать задачу формально;\n",
    " - предложить статистику для решения данной задачи;\n",
    " - получить приближенно нулевое распределение данной статистики;\n",
    " - записать явно правило принятия решения на основе статистики и нулевого распределения для обеспечения уровня значимости α = 0.05;\n",
    " - проверить гипотезу по записанному критерию, для данных из условия. Противоречат ли они гипотезу?"
   ]
  },
  {
   "cell_type": "markdown",
   "metadata": {},
   "source": [
    "# Решение"
   ]
  },
  {
   "cell_type": "markdown",
   "metadata": {},
   "source": [
    "## 1) Оценим параметр $p_0$ методом максимального правдоподобия"
   ]
  },
  {
   "cell_type": "markdown",
   "metadata": {},
   "source": [
    "Пусть $X$ - число проданных лотерейных билетов. Тогда\n",
    "$$P(X = x) = p(1-p)^{x-1},~x\\in \\mathbb{N}$$\n",
    "\n",
    "Пусть было N экспериментов, в ходе которых продано $\\bigl\\{x_i\\bigr\\}_{i=1}^N$ билетов. Тогда для правдоподобия имеем:\n",
    "\n",
    "$$\\mathcal{L} = \\prod_{i = 1}^{N} P(X = x_i) = \\prod_{i = 1}^{N} p(1-p)^{x_i-1}$$\n",
    "\n",
    "$$\\log \\mathcal{L} = N\\log p + \\sum_{i = 1}^{N}(x_i-1)\\log (1-p) = N\\log p + \\Bigl(\\sum_{i = 1}^{N}x_i - N\\Bigr)\\log (1-p)$$\n",
    "\n",
    "$$\\frac{\\partial \\log \\mathcal{L}}{\\partial p} = \\frac{N}{p} - \\frac{\\sum_{i = 1}^{N}x_i - N}{1-p} = 0$$\n",
    "\n",
    "$$p = \\frac{1}{1+\\frac{\\sum_{i = 1}^{N}x_i - N}{N}} = \\frac{N}{\\sum_{i = 1}^{N}x_i} = \\frac{1}{\\bar x}$$"
   ]
  },
  {
   "cell_type": "code",
   "execution_count": 7,
   "metadata": {},
   "outputs": [
    {
     "data": {
      "text/plain": [
       "0.1111111111111111"
      ]
     },
     "execution_count": 7,
     "metadata": {},
     "output_type": "execute_result"
    }
   ],
   "source": [
    "import numpy as np\n",
    "p0 = lambda data: 1./data.mean()\n",
    "data = np.array([8, 12, 7, 6, 12])\n",
    "p0 = p0(data)\n",
    "p0"
   ]
  },
  {
   "cell_type": "markdown",
   "metadata": {},
   "source": [
    "## 2) Сформулируем задачу и предложим статистику"
   ]
  },
  {
   "cell_type": "markdown",
   "metadata": {},
   "source": [
    "В пусть в новом эксперименте $X$ - число выигрышных билетов. Для $X$ имеем биномиальное респределение с параметром $p$:\n",
    "\n",
    "$$X \\sim Bin(n, p),~\\text{где р - вероятность билета оказаться выигрышным, а n=100}$$"
   ]
  },
  {
   "cell_type": "markdown",
   "metadata": {},
   "source": [
    "Легко заметить, что если $X_i \\sim Bin(n,p)$, то $\\sum_{i=1}^N X_i \\sim Bin(nN,p)$. \n",
    "\n",
    "Действительно, $X_i = \\sum_{j=1}^n B_{ij}$, где $B_{ij} \\sim Bernoulli(p)$, тогда $\\sum_{i=1}^N X_i = \\sum_{i=1}^N \\sum_{j=1}^n B_{ij}\\sim Bin(nN,p)$ как сумма $nN$ независимых бернуллиевских случайных величин."
   ]
  },
  {
   "cell_type": "markdown",
   "metadata": {},
   "source": [
    "Следовательно,\n",
    "$$P\\bigl( \\sum_{i=1}^N x_i = T \\bigr) = C_{nN}^T p^T(1-p)^{nN - T}$$"
   ]
  },
  {
   "cell_type": "markdown",
   "metadata": {},
   "source": [
    "## 3) Получим приближенно нулевое распределение"
   ]
  },
  {
   "cell_type": "markdown",
   "metadata": {},
   "source": [
    "Для получения приближенного распределения воспользуемся локальной теоремой Муавра-Лапласа:\n",
    "\n",
    "$$P_n(m) \\approx \\frac{1}{\\sqrt{2\\pi npq}}\\exp \\Bigl(-\\frac{x_m^2}{2}\\Bigr),~~x_m = \\frac{m-np}{\\sqrt{npq}}$$\n",
    "\n",
    "$$\\text{Условия применимости:  } n>100,~m>20,~npq>10$$"
   ]
  },
  {
   "cell_type": "markdown",
   "metadata": {},
   "source": [
    "В нашем случае \n",
    "$$n \\to Nn = 1000 > 100$$\n",
    "\n",
    "$$m \\to \\sum_{i=1}^{10} x_i = 100 > 20$$\n",
    "\n",
    "$$npq \\to p_0(1-p_0)Nn \\approx 98.765 > 10$$\n"
   ]
  },
  {
   "cell_type": "code",
   "execution_count": 29,
   "metadata": {},
   "outputs": [
    {
     "data": {
      "text/plain": [
       "(100, 98.76543209876543)"
      ]
     },
     "execution_count": 29,
     "metadata": {},
     "output_type": "execute_result"
    }
   ],
   "source": [
    "data = np.array([13, 8, 11, 10, 11, 12, 7, 9, 10, 9])\n",
    "n = 100\n",
    "N = len(data)\n",
    "sum(data), p0*(1-p0)*n*N"
   ]
  },
  {
   "cell_type": "markdown",
   "metadata": {},
   "source": [
    "$$Bin(nN, T) = \\frac{1}{\\sqrt{2\\pi Nnp_0(1-p_0)}}\\exp \\Bigl(-\\frac{(T-nNp_0)^2}{2 Nnp_0(1-p_0)}\\Bigr)$$"
   ]
  },
  {
   "cell_type": "markdown",
   "metadata": {},
   "source": [
    "## 4) Таким образом, критерий формулируется так:\n",
    "\n",
    "$$\\text{выборка:   } X^N = (X_1\\dots X_N),~~X \\sim Bin(p, n)$$\n",
    "\n",
    "$$\\text{нулевая гипотеза:   } H_0:p=p_0$$\n",
    "\n",
    "$$\\text{альтернатива:   } H_1:p<\\ne>p_0$$\n",
    "\n",
    "$$\\text{статистика:   } T(X^N) = \\frac{\\sum_{i=1}^N x_i-nNp_0}{\\sqrt{Nnp_0(1-p_0)}}$$\n",
    "\n",
    "$$\\text{нулевое распределение:   } \\sim \\frac{\\phi_{\\mathscr N(0,1)}}{\\sqrt{Nnp_0(1-p_0)}}$$"
   ]
  },
  {
   "cell_type": "markdown",
   "metadata": {},
   "source": [
    "## 5) Получим правило для принятия решения (курильщика)"
   ]
  },
  {
   "cell_type": "markdown",
   "metadata": {},
   "source": [
    "Если обозначить $S = \\Bigl|\\sum_{i=1}^N x_i - nNp_0 \\Bigr|$, то для двусторонней альтернативы  достаточно большого $S$ имеем\n",
    "\n",
    "$$p(T) = \\sum_{|s| > S} P(s) \\approx 2\\sum_{s > S} P(s)$$"
   ]
  },
  {
   "cell_type": "markdown",
   "metadata": {},
   "source": [
    "Можно показать, что $$\\sum_{k=a}^{+\\infty} f(k) - f(a) \\le\\int_a^{+\\infty}f(x)dx \\le \\sum_{k=a}^{+\\infty} f(k)$$"
   ]
  },
  {
   "cell_type": "markdown",
   "metadata": {},
   "source": [
    "В нашем случае $$f(x) = \\frac{\\phi_{\\mathscr N(0,1)}(x)}{\\sqrt{Nnp_0(1-p_0)}}$$\n",
    "\n",
    "$$\\int_T^{+\\infty}f(x)dx = 1-F_{\\mathscr N(0,1)}(T) \\text{ - при сжатии вдоль оси сделали замену переменных}$$"
   ]
  },
  {
   "cell_type": "markdown",
   "metadata": {},
   "source": [
    "Таким образом, $$p(T) \\in \\Bigl[2(1-F_{\\mathscr N(0,1)}(|T|));~~2(1-F_{\\mathscr N(0,1)}(|T|)) + 2\\frac{\\phi_{\\mathscr N(0,1)}(|T|)}{\\sqrt{Nnp_0(1-p_0)}}\\Bigr]$$"
   ]
  },
  {
   "cell_type": "markdown",
   "metadata": {},
   "source": [
    "\n",
    "Отвергаем нулевую гипотезу в пользу альтернативы, если правая граница отрезка для p(T) < 0.05, т.е.\n",
    "\n",
    "$$2(1-F_{\\mathscr N(0,1)}(|T|)) + 2\\frac{\\phi_{\\mathscr N(0,1)}(|T|)}{\\sqrt{Nnp_0(1-p_0)}} < 0.05$$"
   ]
  },
  {
   "cell_type": "code",
   "execution_count": 13,
   "metadata": {},
   "outputs": [],
   "source": [
    "import scipy.stats as st\n",
    "import matplotlib.pyplot as plt\n",
    "%matplotlib inline"
   ]
  },
  {
   "cell_type": "code",
   "execution_count": 36,
   "metadata": {},
   "outputs": [],
   "source": [
    "def p(data = data, n = n, p0 = p0):\n",
    "    T = (sum(data) - p0*n*len(data))/np.sqrt(p0*(1-p0)*n*len(data))\n",
    "    s = 1./np.sqrt(p0*(1-p0)*n*len(data))\n",
    "    return 2*(1-st.norm.cdf(np.abs(T))) + 2*st.norm.pdf(np.abs(T))*s"
   ]
  },
  {
   "cell_type": "code",
   "execution_count": 37,
   "metadata": {
    "scrolled": false
   },
   "outputs": [
    {
     "data": {
      "text/plain": [
       "0.30652625432099256"
      ]
     },
     "execution_count": 37,
     "metadata": {},
     "output_type": "execute_result"
    }
   ],
   "source": [
    "p()"
   ]
  },
  {
   "cell_type": "markdown",
   "metadata": {},
   "source": [
    "## 5)* Получим правило для принятия решения (здорового человека)"
   ]
  },
  {
   "cell_type": "markdown",
   "metadata": {},
   "source": [
    "На самом деле, можно было воспользоваться интегральной теоремой Муавра - Лапласа.\n",
    "\n",
    "$$\\lim_{n \\to \\infty} P\\Bigl(c \\le \\frac{X - np}{\\sqrt{npq}} \\le d\\Bigr) = \\frac{1}{\\sqrt{2\\pi}}\\int_c^d e^{-\\frac{x^2}{2}}dx,~~c = |T|, d = +\\infty$$\n",
    "\n",
    "$$p(T) = 2(1-F_{\\mathscr N(0,1)}(|T|))\\text{ - более мощный критерий}$$"
   ]
  },
  {
   "cell_type": "code",
   "execution_count": 39,
   "metadata": {},
   "outputs": [
    {
     "data": {
      "text/plain": [
       "0.2635524772829725"
      ]
     },
     "execution_count": 39,
     "metadata": {},
     "output_type": "execute_result"
    }
   ],
   "source": [
    "T = (sum(data) - p0*n*len(data))/np.sqrt(p0*(1-p0)*n*len(data))\n",
    "2*(1-st.norm.cdf(np.abs(T)))"
   ]
  },
  {
   "cell_type": "markdown",
   "metadata": {},
   "source": [
    "# Вывод\n",
    "Данные не противоречат нулевой гипотезе. Видимо действительно $p = 0.11$"
   ]
  }
 ],
 "metadata": {
  "kernelspec": {
   "display_name": "Python 3",
   "language": "python",
   "name": "python3"
  },
  "language_info": {
   "codemirror_mode": {
    "name": "ipython",
    "version": 3
   },
   "file_extension": ".py",
   "mimetype": "text/x-python",
   "name": "python",
   "nbconvert_exporter": "python",
   "pygments_lexer": "ipython3",
   "version": "3.7.3"
  }
 },
 "nbformat": 4,
 "nbformat_minor": 2
}
