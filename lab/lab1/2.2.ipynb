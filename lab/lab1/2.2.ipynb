{
 "cells": [
  {
   "cell_type": "code",
   "execution_count": 31,
   "metadata": {},
   "outputs": [],
   "source": [
    "from statsmodels.stats.proportion import binom_test\n",
    "import numpy as np\n",
    "import matplotlib.pyplot as plt"
   ]
  },
  {
   "cell_type": "markdown",
   "metadata": {},
   "source": [
    "\n",
    "Для начала нужно найти р методом макс правдоподобия. Понятно, что распредление это Бернулли, выиграл - 1, \n",
    "не выиграл - 0 (случ. величина такие знач принимает). из 5 месяцев видно, что 40 раз выпал не выигрыш и \n",
    "5 раз выпал выигрыш. составляем уравнение\n",
    " $(1-р)^{40} * р^5$. Находим максимум, при помощи логарифмирования, производную приравниванем к нулю,\n",
    "короче р_мнп = 1/9. \n",
    "Тут задача такая, всего 1000 испытаний, 100 из них удачные. Нужно проверить нулевую гипотезу, что \n",
    " реальное р = р_мнп. против альтернативы, что не равняется. Статистика будет - сумма значений случ величины, \n",
    " то есть количество удачных испытаний. Эта сумма при исттинности нулевой гипотезы распределена как Bin(n, p_мнп).\n",
    " Используем функцию binom_test для опредления p_value. Далее сравниваем p_value vs alfa(уровень значимости)\n",
    " отвергаем гипотезу в том случае, если p_value < alfa. "
   ]
  },
  {
   "cell_type": "code",
   "execution_count": 33,
   "metadata": {},
   "outputs": [
    {
     "data": {
      "text/plain": [
       "<matplotlib.collections.LineCollection at 0x7f4f3106d940>"
      ]
     },
     "execution_count": 33,
     "metadata": {},
     "output_type": "execute_result"
    }
   ],
   "source": [
    "n, p = 1000, 1/9\n",
    "rv = binom(n, p)"
   ]
  },
  {
   "cell_type": "code",
   "execution_count": 45,
   "metadata": {},
   "outputs": [
    {
     "data": {
      "text/plain": [
       "0.040127303782775875"
      ]
     },
     "execution_count": 45,
     "metadata": {},
     "output_type": "execute_result"
    }
   ],
   "source": [
    "rv.pmf(111) # это и есть наше распредление, на вход принимает количество удачных исходов, на выходе вероятность этого "
   ]
  },
  {
   "cell_type": "code",
   "execution_count": 4,
   "metadata": {},
   "outputs": [
    {
     "name": "stdout",
     "output_type": "stream",
     "text": [
      "p_value =  0.29046706206206696\n"
     ]
    }
   ],
   "source": [
    "#Находим p_value\n",
    "print(\"p_value = \", binom_test(100, 1000, 1/9, alternative='two-sided'))"
   ]
  },
  {
   "cell_type": "markdown",
   "metadata": {},
   "source": [
    " при alfa = 0.05 в нашем случае мы гипотезу не отвергаем."
   ]
  }
 ],
 "metadata": {
  "kernelspec": {
   "display_name": "Python 3",
   "language": "python",
   "name": "python3"
  },
  "language_info": {
   "codemirror_mode": {
    "name": "ipython",
    "version": 3
   },
   "file_extension": ".py",
   "mimetype": "text/x-python",
   "name": "python",
   "nbconvert_exporter": "python",
   "pygments_lexer": "ipython3",
   "version": "3.7.3"
  }
 },
 "nbformat": 4,
 "nbformat_minor": 2
}
