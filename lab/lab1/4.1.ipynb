{
 "cells": [
  {
   "cell_type": "markdown",
   "metadata": {},
   "source": [
    "# Задача 4.1\n",
    "\n",
    "Рассмотрим данные из табллицы 1 по числу заболевших и выздоровевших от короновируса в разных странах. Требуется проверить гипотезу о том, что число выздоровевших людей в странах не зависит от числа заболевших в стране.\n",
    "\n",
    "Требуется:\n",
    "\n",
    "- записать задачу формально;\n",
    "- предложить статистику для решения данной задачи;\n",
    "- записать приближенно нулевое распределение данной статистики;\n",
    "- записать явно правило принятия решения на основе статистики и нулевого распределения для обеспечения уровня значимости alpha = 0.05;\n",
    "- проверить гипотезу по записанному критерию, для данных из условия. Противоречат ли они гипотезу?\n",
    "- на уровне значимости alpha = 0.05 найти зависимость мощности критерия в зависимости от истинного значения статистики."
   ]
  },
  {
   "cell_type": "markdown",
   "metadata": {},
   "source": [
    "# Решение"
   ]
  },
  {
   "cell_type": "markdown",
   "metadata": {},
   "source": [
    "Логично предположить наличие монотонной зависимости в данных (чем больше заболевших, чем больше выздоровевших). Таким образом, будем проверять наличие статистически значимой корреляции кендалла."
   ]
  },
  {
   "cell_type": "markdown",
   "metadata": {},
   "source": [
    "## 1) Записать задачу формально, предложить статистику"
   ]
  },
  {
   "cell_type": "markdown",
   "metadata": {},
   "source": [
    "$$\\tau_{X_1, X_2} = \\frac{C-D}{C+D}, \\text{C и D число согласованных и несогласованных пар соответственно}$$\n",
    "\n",
    "$$\\text{выборка:   } X_1^N = (X_11\\dots X_1N), X_2^N = (X_21\\dots X_2N)$$\n",
    "\n",
    "$$\\text{выборки связанные}$$\n",
    "\n",
    "$$\\text{нулевая гипотеза:   } H_0:\\tau_{X_1, X_2} = 0$$\n",
    "\n",
    "$$\\text{альтернатива:   } H_1:\\tau_{X_1, X_2}<\\ne>0$$\n",
    "\n",
    "$$\\text{статистика:   } T(X_1^N, X_2^N) = \\tau_{X_1, X_2}$$"
   ]
  },
  {
   "cell_type": "markdown",
   "metadata": {},
   "source": [
    "## 2) Приближенное нулевое рапределение"
   ]
  },
  {
   "cell_type": "markdown",
   "metadata": {},
   "source": [
    "Коэфициент можно переписать как\n",
    "\n",
    "$$\\tau = \\frac{4C}{N(N-1)}-1$$"
   ]
  },
  {
   "cell_type": "markdown",
   "metadata": {},
   "source": [
    "Можно показать (очень тяжело и нетривиально), что при $H_0, N > 10$ верна аппроксимация нормальным рапределением.\n",
    "\n",
    "$$\\text{нулевое распределение:   } \\sim \\mathscr N\\Bigl(0, \\frac{2(2N+5)}{9N(N-1)}\\Bigr)$$"
   ]
  },
  {
   "cell_type": "markdown",
   "metadata": {},
   "source": [
    "## 3) Правило принятия решения\n",
    "Отвергнуть нулевую гипотезу, если\n",
    "$$p(T) = 2(1-F_{\\mathscr N\\bigl(0,\\frac{2(2N+5)}{9N(N-1)}\\bigr)}(|T|))<0.05$$"
   ]
  },
  {
   "cell_type": "markdown",
   "metadata": {},
   "source": [
    "## 4) Проверить гипотезу на предложенных данных"
   ]
  },
  {
   "cell_type": "code",
   "execution_count": 1,
   "metadata": {},
   "outputs": [],
   "source": [
    "import pandas as pd\n",
    "import scipy.stats as st\n",
    "import numpy as np\n",
    "from statsmodels.stats.descriptivestats import sign_test"
   ]
  },
  {
   "cell_type": "code",
   "execution_count": 2,
   "metadata": {},
   "outputs": [
    {
     "data": {
      "text/html": [
       "<div>\n",
       "<style scoped>\n",
       "    .dataframe tbody tr th:only-of-type {\n",
       "        vertical-align: middle;\n",
       "    }\n",
       "\n",
       "    .dataframe tbody tr th {\n",
       "        vertical-align: top;\n",
       "    }\n",
       "\n",
       "    .dataframe thead th {\n",
       "        text-align: right;\n",
       "    }\n",
       "</style>\n",
       "<table border=\"1\" class=\"dataframe\">\n",
       "  <thead>\n",
       "    <tr style=\"text-align: right;\">\n",
       "      <th></th>\n",
       "      <th>Страна</th>\n",
       "      <th>заболевшие</th>\n",
       "      <th>выздоровевшие</th>\n",
       "    </tr>\n",
       "  </thead>\n",
       "  <tbody>\n",
       "    <tr>\n",
       "      <th>0</th>\n",
       "      <td>германия</td>\n",
       "      <td>2078</td>\n",
       "      <td>25</td>\n",
       "    </tr>\n",
       "    <tr>\n",
       "      <th>1</th>\n",
       "      <td>дания</td>\n",
       "      <td>617</td>\n",
       "      <td>1</td>\n",
       "    </tr>\n",
       "    <tr>\n",
       "      <th>2</th>\n",
       "      <td>малайзия</td>\n",
       "      <td>149</td>\n",
       "      <td>26</td>\n",
       "    </tr>\n",
       "    <tr>\n",
       "      <th>3</th>\n",
       "      <td>австрия</td>\n",
       "      <td>302</td>\n",
       "      <td>4</td>\n",
       "    </tr>\n",
       "    <tr>\n",
       "      <th>4</th>\n",
       "      <td>ирак</td>\n",
       "      <td>71</td>\n",
       "      <td>15</td>\n",
       "    </tr>\n",
       "  </tbody>\n",
       "</table>\n",
       "</div>"
      ],
      "text/plain": [
       "     Страна  заболевшие  выздоровевшие\n",
       "0  германия        2078             25\n",
       "1     дания         617              1\n",
       "2  малайзия         149             26\n",
       "3   австрия         302              4\n",
       "4      ирак          71             15"
      ]
     },
     "execution_count": 2,
     "metadata": {},
     "output_type": "execute_result"
    }
   ],
   "source": [
    "data = pd.read_csv(\"data/corona.csv\")\n",
    "data.head()"
   ]
  },
  {
   "cell_type": "code",
   "execution_count": 3,
   "metadata": {},
   "outputs": [
    {
     "data": {
      "text/plain": [
       "(26, 3)"
      ]
     },
     "execution_count": 3,
     "metadata": {},
     "output_type": "execute_result"
    }
   ],
   "source": [
    "data = data.values\n",
    "data.shape"
   ]
  },
  {
   "cell_type": "markdown",
   "metadata": {},
   "source": [
    "Применима аппроксимация нормальным распределением"
   ]
  },
  {
   "cell_type": "code",
   "execution_count": 4,
   "metadata": {},
   "outputs": [],
   "source": [
    "ill = []\n",
    "recovered = []\n",
    "for country in data:\n",
    "    ill.append(country[1])\n",
    "    recovered.append(country[2])\n",
    "ill = np.array(ill)\n",
    "recovered = np.array(recovered)"
   ]
  },
  {
   "cell_type": "code",
   "execution_count": 5,
   "metadata": {},
   "outputs": [],
   "source": [
    "def kendall_test(data1, data2):\n",
    "    N = len(data1)\n",
    "    C = sum([(data1[i] < data1[j]) == (data2[i] < data2[j]) for i in range(N-1) for j in range(i+1, N)])\n",
    "    D = 2*(2*N+5)/(9*N*(N-1))\n",
    "    T = 4*C/(N*(N-1)) - 1\n",
    "    return T, 2*(1 - st.norm(0, np.sqrt(D)).cdf(np.abs(T)))"
   ]
  },
  {
   "cell_type": "code",
   "execution_count": 6,
   "metadata": {},
   "outputs": [
    {
     "data": {
      "text/plain": [
       "(0.27384615384615385, 0.04979765287012272)"
      ]
     },
     "execution_count": 6,
     "metadata": {},
     "output_type": "execute_result"
    }
   ],
   "source": [
    "kendall_test(ill, recovered)"
   ]
  },
  {
   "cell_type": "code",
   "execution_count": 7,
   "metadata": {
    "scrolled": true
   },
   "outputs": [
    {
     "data": {
      "text/plain": [
       "KendalltauResult(correlation=0.28351110894619114, pvalue=0.044325607642096566)"
      ]
     },
     "execution_count": 7,
     "metadata": {},
     "output_type": "execute_result"
    }
   ],
   "source": [
    "st.kendalltau(ill, recovered, method=\"asymptotic\")"
   ]
  },
  {
   "cell_type": "markdown",
   "metadata": {},
   "source": [
    "Функция из пакета использует $\\tau_b$, корелляцию, у которой немного другое определение, в то время как я посчитал более древнюю $\\tau_a$ корелляцию."
   ]
  },
  {
   "cell_type": "markdown",
   "metadata": {},
   "source": [
    "Так или иначе, гопотеза об отсутствии корреляции отвергается в пользу альтернативы. В данных присутствует монотонная зависимость."
   ]
  },
  {
   "cell_type": "markdown",
   "metadata": {},
   "source": [
    "## 5) Зависимость мощности от истинного значения статистики"
   ]
  },
  {
   "cell_type": "markdown",
   "metadata": {},
   "source": [
    "Мощность критерия это $1-\\beta$, где $\\beta$ - вероятность допустить ошибку первого рода. Зафиксируем размер выборки N = 25 и исследуем зависимость мощности критерия от истинного значения $\\tau$."
   ]
  },
  {
   "cell_type": "code",
   "execution_count": 8,
   "metadata": {},
   "outputs": [],
   "source": [
    "tau = np.linspace(0.001, 1., 1000)\n",
    "N = 25"
   ]
  },
  {
   "cell_type": "markdown",
   "metadata": {},
   "source": [
    "Пусть $E[\\tau] = \\tau_0$, тогда $E[C] = \\frac{N(N-1)(\\tau_0+1)}{4},~~C \\in \\bigl[0; \\frac{N(N-1)}{2}\\bigr]$"
   ]
  },
  {
   "cell_type": "markdown",
   "metadata": {},
   "source": [
    "Будем считать, что пары в выборке подчиняются бернуллиевскому распрелению с параметром $p$, тогда $C \\sim Bin \\bigl(\\frac{N(N-1)}{2}, p\\bigr)$.\n",
    "Отсюда $E[C] = \\frac{pN(N-1)}{2} = \\frac{N(N-1)(\\tau_0+1)}{4}$\n",
    "\n",
    "$$p = \\frac{\\tau_0+1}{2}$$"
   ]
  },
  {
   "cell_type": "markdown",
   "metadata": {},
   "source": [
    "Тогда $$C = \\frac{N(N-1)(\\tau + 1)}{4} \\sim Bin\\Bigl(\\frac{N(N-1)}{2}, \\frac{\\tau_0+1}{2}\\Bigr)$$"
   ]
  },
  {
   "cell_type": "markdown",
   "metadata": {},
   "source": [
    "Теперь используем интегральну теорему Муавра-Лапласа\n",
    "\n",
    "$$\\lim_{n \\to \\infty} P\\Bigl(c \\le \\frac{X - np}{\\sqrt{npq}} \\le d\\Bigr) = \\frac{1}{\\sqrt{2\\pi}}\\int_c^d e^{-\\frac{x^2}{2}}dx$$\n",
    "\n",
    "$$P\\Bigl(c \\le \\frac{\\frac{N(N-1)(\\tau+1)}{4} -\\frac{N(N-1)(\\tau_0+1)}{4}}{\\sqrt{\\frac{N(N-1)}{2}\\frac{\\tau_0+1}{2}\\bigl(1 - \\frac{\\tau_0+1}{2}\\bigr)}} \\le d\\Bigr) = P\\Bigl(c \\le (\\tau - \\tau_0)\\sqrt{\\frac{N(N-1)}{2(1-\\tau_0^2)}} \\le d\\Bigr)$$\n",
    "Условие применимости\n",
    "$$ npq > 10 $$\n",
    "\n",
    "$$\\frac{N(N-1)(1-\\tau_0^2)}{8} > 10 \\to \\tau_0 < \\sqrt{1-\\frac{80}{N(N-1)}}$$"
   ]
  },
  {
   "cell_type": "code",
   "execution_count": 9,
   "metadata": {},
   "outputs": [
    {
     "data": {
      "text/plain": [
       "0.9309493362512627"
      ]
     },
     "execution_count": 9,
     "metadata": {},
     "output_type": "execute_result"
    }
   ],
   "source": [
    "np.sqrt(1-80./(N*(N-1)))"
   ]
  },
  {
   "cell_type": "code",
   "execution_count": 10,
   "metadata": {},
   "outputs": [
    {
     "data": {
      "text/plain": [
       "6.111111111111111"
      ]
     },
     "execution_count": 10,
     "metadata": {},
     "output_type": "execute_result"
    }
   ],
   "source": [
    "(2*N + 5)/9"
   ]
  },
  {
   "cell_type": "markdown",
   "metadata": {},
   "source": [
    "Дисперся полученного нормального распределения сильно отличается от общепринятого результата, следовательно принципиально не существует таких распределений, что их парная выбока удовлетворяет сделанному предположению."
   ]
  },
  {
   "cell_type": "markdown",
   "metadata": {},
   "source": [
    "Таким образом, теоретически подсчитать ничего не удается. Будем поступать так: генерим 2 выборки размера N по такому принципу:\n",
    "\n",
    "$X_1 \\sim \\mathcal{N}(0,1)$, $X_2 = X_1 + \\alpha\\varepsilon, \\quad \\varepsilon \\sim\\mathcal{N}(0,1)$\n",
    "\n",
    "Затем, предполагая, что $\\lim_{N\\to \\infty} \\beta \\to 0$ сгенерим выборку размера $\\mathcal N = 1000$ и проверим гипотезу об отсутствии корелляции, после чего будем счиать, что знаем, верна или не верна гипотеза на самом деле. В дальнейшем работаем только с выборками, для которых удалось показать наличие корелляции.\n",
    "\n",
    "После этого 1000 раз генерируем из того же распределения выборку размера $N = 25$ и для каждой проверяем гипотезу. Доля тех выборок, для которых гипотеза не была отвергнута, это и есть $\\beta$.\n",
    "\n",
    "Таким образом, варьируя $\\alpha$ и считая коэффициент корелляции, получим экспериментальную зависимость $\\beta(\\tau)$"
   ]
  },
  {
   "cell_type": "markdown",
   "metadata": {},
   "source": [
    "### Внимание!!! ячейка работает долго"
   ]
  },
  {
   "cell_type": "code",
   "execution_count": 16,
   "metadata": {},
   "outputs": [],
   "source": [
    "alphas = np.linspace(0.1, 10.0, 100)\n",
    "NN = 1000\n",
    "N = 25\n",
    "M = 1000\n",
    "results = dict()\n",
    "for alpha in alphas:\n",
    "    X1 = np.random.randn(NN)\n",
    "    X2 = X1 + alpha*np.random.randn(NN)\n",
    "    tau, pval = kendall_test(X1, X2)\n",
    "    if not pval < 0.05:\n",
    "        continue\n",
    "    counter = 0\n",
    "    for _ in range(M):\n",
    "        X1 = np.random.randn(N)\n",
    "        X2 = X1 + alpha*np.random.randn(N)\n",
    "        p_val = kendall_test(X1, X2)[1]\n",
    "        counter += not p_val < 0.05\n",
    "    results[tau] = counter/M"
   ]
  },
  {
   "cell_type": "code",
   "execution_count": 17,
   "metadata": {},
   "outputs": [],
   "source": [
    "import matplotlib.pyplot as plt\n",
    "%matplotlib inline"
   ]
  },
  {
   "cell_type": "code",
   "execution_count": 18,
   "metadata": {},
   "outputs": [],
   "source": [
    "taus = []\n",
    "powers = []\n",
    "for tau, power in sorted(list(results.items())):\n",
    "    taus.append(tau)\n",
    "    powers.append(1. - power)\n",
    "taus = np.array(taus)\n",
    "powers = np.array(powers)"
   ]
  },
  {
   "cell_type": "code",
   "execution_count": 19,
   "metadata": {},
   "outputs": [
    {
     "data": {
      "image/png": "[encoded data removed]",
      "text/plain": [
       "<Figure size 720x720 with 1 Axes>"
      ]
     },
     "metadata": {
      "needs_background": "light"
     },
     "output_type": "display_data"
    }
   ],
   "source": [
    "plt.figure(figsize=(10,10))\n",
    "plt.plot(taus, powers)\n",
    "plt.scatter(taus, powers)\n",
    "plt.grid()\n",
    "plt.title(\"Power dependence on $tau$\")\n",
    "plt.xlabel(\"$tau$\")\n",
    "plt.ylabel(\"$1-beta$\")\n",
    "plt.show()"
   ]
  },
  {
   "cell_type": "markdown",
   "metadata": {},
   "source": [
    "# Вывод\n",
    "Таким образом, в этой работе сначала было показано наличие статистически значимой корелляции кендалла между числом заболевших и умерших от коронавируса (положительная корелляция свидетельствует о наличии прямой монотонной зависимости - чем больше заболевших, тем больше выздоровевших).\n",
    "\n",
    "Затем была исследована зависимость мощности критерия от самой корелляции. Зависимость в целом монотонная, что логично - более сильную корелляцию легче \"поймать\". Флуктуации при малых $\\tau$ можно пытаться бороть, увеличивая $M$ и $NN$. Для исследования такой зависимости в принципе имеет значение вид исходного распределения. Мы использовали $X_1$ и $X_2$, описанные выше, но для других рапределений зависимость может иметь немного другой вид, хотя скорее всего все равно монотонный и похожий."
   ]
  }
 ],
 "metadata": {
  "kernelspec": {
   "display_name": "Python 3",
   "language": "python",
   "name": "python3"
  },
  "language_info": {
   "codemirror_mode": {
    "name": "ipython",
    "version": 3
   },
   "file_extension": ".py",
   "mimetype": "text/x-python",
   "name": "python",
   "nbconvert_exporter": "python",
   "pygments_lexer": "ipython3",
   "version": "3.7.3"
  }
 },
 "nbformat": 4,
 "nbformat_minor": 2
}
