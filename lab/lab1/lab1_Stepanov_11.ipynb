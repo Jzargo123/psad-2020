{
 "cells": [
  {
   "cell_type": "code",
   "execution_count": 1,
   "metadata": {},
   "outputs": [],
   "source": [
    "import get_lab"
   ]
  },
  {
   "cell_type": "code",
   "execution_count": 4,
   "metadata": {},
   "outputs": [
    {
     "name": "stdout",
     "output_type": "stream",
     "text": [
      "enter phystech e-mail\n",
      "stepanov.gs@phystech.edu\n",
      "Your tasks are 1.1, 2.4, 3.4, 4.2\n"
     ]
    }
   ],
   "source": [
    "%run get_lab.py"
   ]
  },
  {
   "cell_type": "code",
   "execution_count": 5,
   "metadata": {},
   "outputs": [],
   "source": [
    "import numpy as np\n",
    "import scipy.stats as st"
   ]
  },
  {
   "cell_type": "code",
   "execution_count": 34,
   "metadata": {},
   "outputs": [],
   "source": [
    "from statsmodels.stats.diagnostic import lilliefors\n",
    "from statsmodels.stats.stattools import jarque_bera\n",
    "from scipy.stats import shapiro"
   ]
  },
  {
   "cell_type": "code",
   "execution_count": 37,
   "metadata": {},
   "outputs": [],
   "source": [
    "def crit_power (crit, dist, size, alpha, sample_size, **kwargs):\n",
    "    rej = 0\n",
    "    for i in range (size):\n",
    "        t = dist.rvs(size=sample_size, **kwargs)\n",
    "        if crit (t)[1] < alpha:\n",
    "            rej += 1\n",
    "    return rej/size"
   ]
  },
  {
   "cell_type": "code",
   "execution_count": 26,
   "metadata": {},
   "outputs": [],
   "source": [
    "rage = [10, 100, 500, 900]"
   ]
  },
  {
   "cell_type": "code",
   "execution_count": 19,
   "metadata": {},
   "outputs": [
    {
     "name": "stdout",
     "output_type": "stream",
     "text": [
      "hello world\n"
     ]
    }
   ],
   "source": [
    "print (\"hello\", end =\" \")\n",
    "print (\"world\")"
   ]
  },
  {
   "cell_type": "markdown",
   "metadata": {},
   "source": [
    "# Norm"
   ]
  },
  {
   "cell_type": "code",
   "execution_count": null,
   "metadata": {},
   "outputs": [],
   "source": [
    "ПРоверяем нормальное:"
   ]
  },
  {
   "cell_type": "code",
   "execution_count": 39,
   "metadata": {},
   "outputs": [
    {
     "name": "stdout",
     "output_type": "stream",
     "text": [
      "Lilliefors:\n",
      "sample size =  10\n",
      "0.05 0.059 0.038 0.048 0.048 \n",
      "sample size =  100\n",
      "0.046 0.05 0.056 0.045 0.053 \n",
      "sample size =  500\n",
      "0.04 0.065 0.047 0.05 0.062 \n",
      "sample size =  900\n",
      "0.054 0.035 0.047 0.053 0.06 \n",
      "Mean alpha =  0.0503 неконсервативен\n",
      " \n",
      "Shapiro:\n",
      "sample size =  10\n",
      "0.05 0.058 0.038 0.062 0.042 \n",
      "sample size =  100\n",
      "0.047 0.045 0.058 0.053 0.046 \n",
      "sample size =  500\n",
      "0.044 0.055 0.055 0.038 0.058 \n",
      "sample size =  900\n",
      "0.055 0.046 0.046 0.051 0.048 \n",
      "Mean alpha =  0.049750000000000016 консервативен\n",
      " \n",
      "Jarque-Bera:\n",
      "sample size =  10\n",
      "0.009 0.008 0.01 0.011 0.018 \n",
      "sample size =  100\n",
      "0.05 0.036 0.039 0.042 0.04 \n",
      "sample size =  500\n",
      "0.04 0.037 0.053 0.056 0.053 \n",
      "sample size =  900\n",
      "0.051 0.055 0.05 0.05 0.035 \n",
      "Mean alpha =  0.03715000000000001 консервативен\n",
      " \n"
     ]
    }
   ],
   "source": [
    "for crit, crit_name in [(lilliefors, \"Lilliefors:\"), (shapiro, \"Shapiro:\"), (jarque_bera, \"Jarque-Bera:\")]:\n",
    "    print (crit_name)\n",
    "    mean_alpha = 0\n",
    "    for sample_size in rage:\n",
    "        print (\"sample size = \", sample_size)\n",
    "        for j in range (5):\n",
    "            mean = np.random.rand()*10\n",
    "            std = np.random.rand()*10\n",
    "            res = crit_power (crit, st.norm, 1000, 0.05, sample_size=sample_size, loc=mean, scale=std)\n",
    "            mean_alpha += res\n",
    "            print(res, end = \" \")\n",
    "        print (\"\")\n",
    "    print (\"Mean alpha = \", mean_alpha/20, end = \" \")\n",
    "    if mean_alpha/20 < 0.05: print (\"консервативен\")\n",
    "    else: print (\"неконсервативен\")\n",
    "    print (\" \")"
   ]
  },
  {
   "cell_type": "markdown",
   "metadata": {},
   "source": [
    "# Laplace"
   ]
  },
  {
   "cell_type": "code",
   "execution_count": 40,
   "metadata": {},
   "outputs": [
    {
     "name": "stdout",
     "output_type": "stream",
     "text": [
      "Lilliefors:\n",
      "sample size =  10\n",
      "0.147 0.148 0.155 0.146 0.136 \n",
      "sample size =  100\n",
      "0.685 0.709 0.706 0.717 0.713 \n",
      "sample size =  500\n",
      "1.0 1.0 1.0 1.0 1.0 \n",
      "sample size =  900\n",
      "1.0 1.0 1.0 1.0 1.0 \n",
      " \n",
      "Shapiro:\n",
      "sample size =  10\n",
      "0.148 0.148 0.153 0.174 0.149 \n",
      "sample size =  100\n",
      "0.802 0.785 0.81 0.789 0.797 \n",
      "sample size =  500\n",
      "1.0 1.0 1.0 1.0 1.0 \n",
      "sample size =  900\n",
      "1.0 1.0 1.0 1.0 1.0 \n",
      " \n",
      "Jarque-Bera:\n",
      "sample size =  10\n",
      "0.065 0.052 0.065 0.073 0.055 \n",
      "sample size =  100\n",
      "0.787 0.786 0.749 0.784 0.77 \n",
      "sample size =  500\n",
      "1.0 1.0 1.0 1.0 1.0 \n",
      "sample size =  900\n",
      "1.0 1.0 1.0 1.0 1.0 \n",
      " \n"
     ]
    }
   ],
   "source": [
    "for crit, crit_name in [(lilliefors, \"Lilliefors:\"), (shapiro, \"Shapiro:\"), (jarque_bera, \"Jarque-Bera:\")]:\n",
    "    print (crit_name)\n",
    "\n",
    "    for sample_size in rage:\n",
    "        print (\"sample size = \", sample_size)\n",
    "        for j in range (5):\n",
    "            mean = np.random.rand()*10\n",
    "            std = np.random.rand()*10\n",
    "            res = crit_power (crit, st.laplace, 1000, 0.05, sample_size=sample_size, loc=mean, scale=std)\n",
    "            print(res, end = \" \")\n",
    "        print (\"\")\n",
    "    print (\" \")"
   ]
  },
  {
   "cell_type": "markdown",
   "metadata": {},
   "source": [
    "# Student"
   ]
  },
  {
   "cell_type": "code",
   "execution_count": 41,
   "metadata": {},
   "outputs": [
    {
     "name": "stdout",
     "output_type": "stream",
     "text": [
      "Lilliefors:\n",
      "sample size =  10\n",
      "0.079 0.303 0.227 0.079 0.233 \n",
      "sample size =  100\n",
      "0.13 0.202 0.65 0.323 0.261 \n",
      "sample size =  500\n",
      "0.394 0.949 0.845 1.0 0.326 \n",
      "sample size =  900\n",
      "1.0 1.0 1.0 0.996 1.0 \n",
      " \n",
      "Shapiro:\n",
      "sample size =  10\n",
      "0.077 0.165 0.109 0.109 0.099 \n",
      "sample size =  100\n",
      "0.595 1.0 0.589 0.635 0.628 \n",
      "sample size =  500\n",
      "0.957 0.907 0.999 1.0 0.883 \n",
      "sample size =  900\n",
      "0.999 1.0 1.0 1.0 0.888 \n",
      " \n",
      "Jarque-Bera:\n",
      "sample size =  10\n",
      "0.027 0.017 0.05 0.026 0.019 \n",
      "sample size =  100\n",
      "0.456 0.397 0.355 0.418 0.998 \n",
      "sample size =  500\n",
      "1.0 1.0 1.0 0.987 0.998 \n",
      "sample size =  900\n",
      "0.988 1.0 0.938 0.93 1.0 \n",
      " \n"
     ]
    }
   ],
   "source": [
    "for crit, crit_name in [(lilliefors, \"Lilliefors:\"), (shapiro, \"Shapiro:\"), (jarque_bera, \"Jarque-Bera:\")]:\n",
    "    print (crit_name)\n",
    "\n",
    "    for sample_size in rage:\n",
    "        print (\"sample size = \", sample_size)\n",
    "        for j in range (5):\n",
    "            df = np.random.rand()*10\n",
    "            res = crit_power (crit, st.t, 1000, 0.05, sample_size=sample_size, df=df)\n",
    "            print(res, end = \" \")\n",
    "        print (\"\")\n",
    "    print (\" \")"
   ]
  },
  {
   "cell_type": "markdown",
   "metadata": {},
   "source": [
    "# Truncated"
   ]
  },
  {
   "cell_type": "code",
   "execution_count": 42,
   "metadata": {},
   "outputs": [
    {
     "name": "stdout",
     "output_type": "stream",
     "text": [
      "Lilliefors:\n",
      "sample size =  10\n",
      "0.046 0.049 0.061 0.052 0.063 \n",
      "sample size =  100\n",
      "0.533 0.538 0.533 0.526 0.532 \n",
      "sample size =  500\n",
      "1.0 1.0 1.0 1.0 1.0 \n",
      "sample size =  900\n",
      "1.0 1.0 1.0 1.0 1.0 \n",
      " \n",
      "Shapiro:\n",
      "sample size =  10\n",
      "0.069 0.088 0.072 0.083 0.072 \n",
      "sample size =  100\n",
      "0.99 0.995 0.995 0.993 0.991 \n",
      "sample size =  500\n",
      "1.0 1.0 1.0 1.0 1.0 \n",
      "sample size =  900\n",
      "1.0 1.0 1.0 1.0 1.0 \n",
      " \n",
      "Jarque-Bera:\n",
      "sample size =  10\n",
      "0.002 0.003 0.002 0.0 0.003 \n",
      "sample size =  100\n",
      "0.448 0.475 0.468 0.462 0.477 \n",
      "sample size =  500\n",
      "1.0 1.0 1.0 1.0 1.0 \n",
      "sample size =  900\n",
      "1.0 1.0 1.0 1.0 1.0 \n",
      " \n"
     ]
    }
   ],
   "source": [
    "for crit, crit_name in [(lilliefors, \"Lilliefors:\"), (shapiro, \"Shapiro:\"), (jarque_bera, \"Jarque-Bera:\")]:\n",
    "    print (crit_name)\n",
    "\n",
    "    for sample_size in rage:\n",
    "        print (\"sample size = \", sample_size)\n",
    "        for j in range (5):\n",
    "            df = np.random.rand()*10\n",
    "            res = crit_power (crit, st.truncnorm, 1000, 0.05, sample_size=sample_size,\n",
    "                              a=(-2-mean)/std, b=(2-mean)/std, loc=mean, scale=std)\n",
    "            print(res, end = \" \")\n",
    "        print (\"\")\n",
    "    print (\" \")"
   ]
  },
  {
   "cell_type": "code",
   "execution_count": null,
   "metadata": {},
   "outputs": [],
   "source": []
  }
 ],
 "metadata": {
  "kernelspec": {
   "display_name": "Python 3",
   "language": "python",
   "name": "python3"
  },
  "language_info": {
   "codemirror_mode": {
    "name": "ipython",
    "version": 3
   },
   "file_extension": ".py",
   "mimetype": "text/x-python",
   "name": "python",
   "nbconvert_exporter": "python",
   "pygments_lexer": "ipython3",
   "version": "3.7.1"
  }
 },
 "nbformat": 4,
 "nbformat_minor": 2
}
