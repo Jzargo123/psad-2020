{
 "cells": [
  {
   "cell_type": "markdown",
   "metadata": {},
   "source": [
    "# Задача 1.4\n",
    "Частота распределения слов в языке описывается законом Ципфа.\n",
    "\n",
    "Проверить, что он действительно описывает частоту слов (через формальный критерий) на основе анализа двух документов: Анны Карениной и новостного корпуса. Можно ли утверждать, что параметры закона Ципфа для этих двух корпусов совпадают?\n",
    "\n",
    "Пояснение по закону Ципфа: закон Ципфа утверждает, что в выборке из N элементов частота (вероятность) встретить элемент с рангом K равняется: const / K^a, где a --- параметр распределения. Подробнее можно посмотреть здесь."
   ]
  },
  {
   "cell_type": "markdown",
   "metadata": {},
   "source": [
    "$$f(k,s,N) = \\frac{С}{k^s},~~C = const$$"
   ]
  },
  {
   "cell_type": "markdown",
   "metadata": {},
   "source": [
    "# Решение"
   ]
  },
  {
   "cell_type": "markdown",
   "metadata": {},
   "source": [
    "## 1) Предобработка\n",
    "Прежде всего прочитаем оба файла и создадим словари с подсчетом количества слов. Для чистоты эксперимента оставим слова только из русских букв."
   ]
  },
  {
   "cell_type": "code",
   "execution_count": 395,
   "metadata": {},
   "outputs": [],
   "source": [
    "import scipy.stats as st\n",
    "import numpy as np\n",
    "import seaborn as sns\n",
    "import matplotlib.pyplot as plt\n",
    "from scipy.optimize import root_scalar\n",
    "from scipy.optimize import curve_fit\n",
    "from statsmodels.sandbox.stats.multicomp import multipletests \n",
    "%matplotlib inline"
   ]
  },
  {
   "cell_type": "code",
   "execution_count": 100,
   "metadata": {},
   "outputs": [],
   "source": [
    "chars = \"а б в г д е ё ж з и й к л м н о п р с т у ф х ц ч ш щ ъ ы ь э ю я\".split(\" \")\n",
    "chars += [char.upper() for char in chars]\n",
    "chars = set(chars)"
   ]
  },
  {
   "cell_type": "code",
   "execution_count": 101,
   "metadata": {},
   "outputs": [],
   "source": [
    "def deep_split(string, arr = chars):\n",
    "    prev = 0\n",
    "    ans = []\n",
    "    for i, char in enumerate(string):\n",
    "        if not char in arr:\n",
    "            ans.append(string[prev:i])\n",
    "            prev = i + 1\n",
    "    ans.append(string[prev:])\n",
    "    return ans"
   ]
  },
  {
   "cell_type": "code",
   "execution_count": 325,
   "metadata": {},
   "outputs": [],
   "source": [
    "def count_words(filename):\n",
    "    all_words = dict()\n",
    "    with open(filename, \"r\") as file:\n",
    "        for line in file.readlines():\n",
    "            for word in deep_split(line):\n",
    "                word = word.lower()\n",
    "                if len(word) > 0:\n",
    "                    if not word in all_words:\n",
    "                        all_words[word] = 0\n",
    "                    all_words[word] += 1\n",
    "    return sorted([(count, word) for word, count in all_words.items()], key=lambda pair: -pair[0])"
   ]
  },
  {
   "cell_type": "code",
   "execution_count": 326,
   "metadata": {},
   "outputs": [],
   "source": [
    "tolstoj_dictionary = count_words(\"data/tolstoj.txt\")\n",
    "news_dictionary = count_words(\"data/news.txt\")"
   ]
  },
  {
   "cell_type": "code",
   "execution_count": 327,
   "metadata": {
    "scrolled": true
   },
   "outputs": [
    {
     "data": {
      "text/plain": [
       "(32812, 11843)"
      ]
     },
     "execution_count": 327,
     "metadata": {},
     "output_type": "execute_result"
    }
   ],
   "source": [
    "len(tolstoj_dictionary), len(news_dictionary)"
   ]
  },
  {
   "cell_type": "code",
   "execution_count": 328,
   "metadata": {
    "scrolled": true
   },
   "outputs": [
    {
     "data": {
      "text/plain": [
       "[(12916, 'и'),\n",
       " (6538, 'не'),\n",
       " (6141, 'что'),\n",
       " (5723, 'в'),\n",
       " (5552, 'он'),\n",
       " (3594, 'на'),\n",
       " (3436, 'она'),\n",
       " (3358, 'с'),\n",
       " (3217, 'я'),\n",
       " (2686, 'как')]"
      ]
     },
     "execution_count": 328,
     "metadata": {},
     "output_type": "execute_result"
    }
   ],
   "source": [
    "tolstoj_dictionary[:10]"
   ]
  },
  {
   "cell_type": "code",
   "execution_count": 329,
   "metadata": {},
   "outputs": [
    {
     "data": {
      "text/plain": [
       "[(1964, 'в'),\n",
       " (1013, 'и'),\n",
       " (760, 'что'),\n",
       " (722, 'на'),\n",
       " (401, 'с'),\n",
       " (369, 'не'),\n",
       " (345, 'как'),\n",
       " (321, 'он'),\n",
       " (284, 'по'),\n",
       " (214, 'из')]"
      ]
     },
     "execution_count": 329,
     "metadata": {},
     "output_type": "execute_result"
    }
   ],
   "source": [
    "news_dictionary[:10]"
   ]
  },
  {
   "cell_type": "markdown",
   "metadata": {},
   "source": [
    "## 2) Подсчет рангов\n",
    "Теперь нужно для каждого слова получить его ранг."
   ]
  },
  {
   "cell_type": "code",
   "execution_count": 330,
   "metadata": {},
   "outputs": [],
   "source": [
    "def get_data(pairs):\n",
    "    names = []\n",
    "    counts = []\n",
    "    for pair in pairs:\n",
    "        counts.append(pair[0])\n",
    "        names.append(pair[1])\n",
    "    counts = np.array(counts)\n",
    "    return st.rankdata(-counts), counts, names"
   ]
  },
  {
   "cell_type": "code",
   "execution_count": 331,
   "metadata": {},
   "outputs": [],
   "source": [
    "tolstoj_ranks, tolstoj_counts, tolstoj_names = get_data(tolstoj_dictionary)\n",
    "news_ranks, news_counts, news_names = get_data(news_dictionary)"
   ]
  },
  {
   "cell_type": "markdown",
   "metadata": {},
   "source": [
    "## 3) Получим оценку для параметра s методом максимального правдоподобия\n",
    "\n",
    "Пусть каждое слово в тексте - случайная величина $X$. \n",
    "\n",
    "$W_k$ - слово ранга $k$. Текст - выборка $X^N$\n",
    "\n",
    "$$P(X = W_k) = \\frac{k^{-s}}{\\sum_{n=1}^N n^{-s}}$$"
   ]
  },
  {
   "cell_type": "markdown",
   "metadata": {},
   "source": [
    "Провернем метод максимального правдоподобия\n",
    "\n",
    "$$ \\mathcal L(X^N) = \\prod_{i=1}^N \\frac{k_i^{-s}}{\\sum_{n=1}^N n^{-s}}$$\n",
    "\n",
    "$$\\log \\mathcal L(X^N) = -s \\sum_{i=1}^N \\log k_i - N\\log \\sum_{n=1}^N n^{-s}$$\n",
    "\n",
    "$$\\frac{\\partial \\log \\mathcal L(X^N)}{\\partial s} = -\\sum_{i=1}^N \\log k_i + N\\frac{\\sum_{n=1}^N \\log (n)~n^{-s}}{\\sum_{n=1}^N n^{-s}} = 0$$"
   ]
  },
  {
   "cell_type": "markdown",
   "metadata": {},
   "source": [
    "Из последнего уравнения можно найти $s$"
   ]
  },
  {
   "cell_type": "code",
   "execution_count": 344,
   "metadata": {},
   "outputs": [],
   "source": [
    "def L(ranks, counts, s):\n",
    "    N = sum(counts)\n",
    "    n = np.arange(N) + 1.\n",
    "    return -sum(np.log(ranks)*counts) + N*sum(np.log(n)*n**(-s))/sum(n**(-s))"
   ]
  },
  {
   "cell_type": "code",
   "execution_count": 368,
   "metadata": {
    "scrolled": true
   },
   "outputs": [],
   "source": [
    "tolstoj_s = root_scalar(lambda s: L(tolstoj_ranks, tolstoj_counts, s), bracket = (1, 2)).root"
   ]
  },
  {
   "cell_type": "code",
   "execution_count": 360,
   "metadata": {},
   "outputs": [],
   "source": [
    "news_s = root_scalar(lambda s: L(news_ranks, news_counts, s), bracket = (0.1, 2)).root"
   ]
  },
  {
   "cell_type": "code",
   "execution_count": 361,
   "metadata": {},
   "outputs": [],
   "source": [
    "tolstoj_popt, _ = curve_fit(lambda x, a, b:a*x+b, np.log(tolstoj_ranks), \n",
    "                            np.log(tolstoj_counts))\n",
    "news_popt, _ = curve_fit(lambda x, a, b:a*x+b, np.log(news_ranks), \n",
    "                         np.log(news_counts))"
   ]
  },
  {
   "cell_type": "code",
   "execution_count": 362,
   "metadata": {
    "scrolled": false
   },
   "outputs": [
    {
     "data": {
      "text/plain": [
       "(-1.0389777174200896, -1.055090307491394)"
      ]
     },
     "execution_count": 362,
     "metadata": {},
     "output_type": "execute_result"
    }
   ],
   "source": [
    "tolstoj_popt[0], -tolstoj_s"
   ]
  },
  {
   "cell_type": "code",
   "execution_count": 363,
   "metadata": {
    "scrolled": false
   },
   "outputs": [
    {
     "data": {
      "text/plain": [
       "(-0.7984609218785796, -0.9330834761008905)"
      ]
     },
     "execution_count": 363,
     "metadata": {},
     "output_type": "execute_result"
    }
   ],
   "source": [
    "news_popt[0], -news_s"
   ]
  },
  {
   "cell_type": "markdown",
   "metadata": {},
   "source": [
    "Здесь нет ничего удивительного, LS не обязан совпадать с MLE. Считается, что MLE лучше."
   ]
  },
  {
   "cell_type": "markdown",
   "metadata": {},
   "source": [
    "## 4) Убедимся в адекватности результата\n",
    "Построим графики в логарифмическом масштабе и сравним реальное и MLE распределения"
   ]
  },
  {
   "cell_type": "code",
   "execution_count": 372,
   "metadata": {},
   "outputs": [],
   "source": [
    "def get_probabilities(ranks, counts, s):\n",
    "    C = 1./sum((np.arange(sum(counts))+1.)**(-s))\n",
    "    return np.array([C*k**(-s) for k in ranks])"
   ]
  },
  {
   "cell_type": "code",
   "execution_count": 373,
   "metadata": {},
   "outputs": [],
   "source": [
    "def plot_Zipf(ranks, counts, s):\n",
    "    plt.figure(figsize = (6,6))\n",
    "    probabilities_real = counts/sum(counts)\n",
    "    probabilities_predicted = get_probabilities(ranks, counts, s)\n",
    "    plt.scatter(np.log(ranks), np.log(probabilities_real), s = 2)\n",
    "    plt.plot(np.log(ranks), np.log(probabilities_predicted), color=\"red\")\n",
    "    plt.xlabel(\"$\\log~rank(word)$\")\n",
    "    plt.title(\"Tolstoj\")\n",
    "    plt.ylabel(\"$\\log~count$\")\n",
    "    plt.grid()\n",
    "    plt.show()"
   ]
  },
  {
   "cell_type": "code",
   "execution_count": 374,
   "metadata": {},
   "outputs": [
    {
     "data": {
      "image/png": "[encoded data removed]",
      "text/plain": [
       "<Figure size 432x432 with 1 Axes>"
      ]
     },
     "metadata": {
      "needs_background": "light"
     },
     "output_type": "display_data"
    }
   ],
   "source": [
    "plot_Zipf(tolstoj_ranks, tolstoj_counts, tolstoj_s)"
   ]
  },
  {
   "cell_type": "code",
   "execution_count": 375,
   "metadata": {
    "scrolled": false
   },
   "outputs": [
    {
     "data": {
      "image/png": "[encoded data removed]",
      "text/plain": [
       "<Figure size 432x432 with 1 Axes>"
      ]
     },
     "metadata": {
      "needs_background": "light"
     },
     "output_type": "display_data"
    }
   ],
   "source": [
    "plot_Zipf(news_ranks, news_counts, news_s)"
   ]
  },
  {
   "cell_type": "markdown",
   "metadata": {},
   "source": [
    "## 5) Проверим гипотезу о распределении"
   ]
  },
  {
   "cell_type": "markdown",
   "metadata": {},
   "source": [
    "Теперь проверим гипотезу о том, что данные имеют такое распределение, с помощью хи-квадрат (Критерий согласия Пирсона). Необходимо разбить вариационный ряд так, чтобы $np_i > 5$ в 80% ячеек (для хи-квадрат необходимо большое количество данных). Для простоты и надежности обеспечу это условие во всех ячейках, кроме, быть может, последней."
   ]
  },
  {
   "cell_type": "code",
   "execution_count": 433,
   "metadata": {},
   "outputs": [],
   "source": [
    "def make_splitting(probabilities, n, thresh = 5.):\n",
    "    nprob = n*probabilities\n",
    "    intervals = []\n",
    "    curr = []\n",
    "    score = 0.\n",
    "    for i, p in enumerate(nprob):\n",
    "        score += p\n",
    "        curr.append(i)\n",
    "        if score > thresh:\n",
    "            score = 0\n",
    "            intervals.append(curr)\n",
    "            curr = []\n",
    "    return intervals"
   ]
  },
  {
   "cell_type": "code",
   "execution_count": 434,
   "metadata": {},
   "outputs": [],
   "source": [
    "def intervals_summing(array, intervals):\n",
    "    summs = []\n",
    "    for interval in intervals:\n",
    "        summ = 0\n",
    "        for i in interval:\n",
    "            summ += array[i]\n",
    "        summs.append(summ)\n",
    "    return np.array(summs)"
   ]
  },
  {
   "cell_type": "code",
   "execution_count": 435,
   "metadata": {},
   "outputs": [],
   "source": [
    "tolstoj_intervals = make_splitting(get_probabilities(tolstoj_ranks, tolstoj_counts, tolstoj_s), \n",
    "                                   sum(tolstoj_counts))\n",
    "news_intervals = make_splitting(get_probabilities(news_ranks, news_counts, news_s), sum(news_counts))"
   ]
  },
  {
   "cell_type": "code",
   "execution_count": 436,
   "metadata": {},
   "outputs": [],
   "source": [
    "tolstoj_predicted = intervals_summing(get_probabilities(tolstoj_ranks, tolstoj_counts, tolstoj_s), \n",
    "                  tolstoj_intervals)\n",
    "news_predicted = intervals_summing(get_probabilities(news_ranks, news_counts, news_s), news_intervals)"
   ]
  },
  {
   "cell_type": "code",
   "execution_count": 437,
   "metadata": {},
   "outputs": [],
   "source": [
    "tolstoj_observed = intervals_summing(tolstoj_counts/sum(tolstoj_counts), tolstoj_intervals)\n",
    "news_observed = intervals_summing(news_counts/sum(news_counts), news_intervals)"
   ]
  },
  {
   "cell_type": "markdown",
   "metadata": {},
   "source": [
    "Теперь получим p-value с помощью хи-квадрат, учитывая, что 1 параметр мы уже оценили по данным. \n",
    "После этого сделаем поправку на множественное тестирование (Холм)."
   ]
  },
  {
   "cell_type": "code",
   "execution_count": 438,
   "metadata": {},
   "outputs": [],
   "source": [
    "tolstoj_p = st.chisquare(tolstoj_observed, tolstoj_predicted, ddof=1)[1]\n",
    "news_p = st.chisquare(news_observed, news_predicted, ddof=1)[1]"
   ]
  },
  {
   "cell_type": "code",
   "execution_count": 439,
   "metadata": {},
   "outputs": [
    {
     "data": {
      "text/plain": [
       "(1.0, 1.0)"
      ]
     },
     "execution_count": 439,
     "metadata": {},
     "output_type": "execute_result"
    }
   ],
   "source": [
    "_, p_vals, __, ___ = multipletests([tolstoj_p, news_p], method=\"holm\")\n",
    "tolstoj_p_corrected, news_p_corrected = p_vals\n",
    "tolstoj_p_corrected, news_p_corrected"
   ]
  },
  {
   "cell_type": "markdown",
   "metadata": {},
   "source": [
    "Таким образом, критерий не опровергает гипотезу о том, что распределение слов в каждом из документов описывается законом Ципфа."
   ]
  },
  {
   "cell_type": "markdown",
   "metadata": {},
   "source": [
    "## 7) Сравним параметры распределения Ципфа для документов"
   ]
  },
  {
   "cell_type": "code",
   "execution_count": 440,
   "metadata": {},
   "outputs": [
    {
     "data": {
      "text/plain": [
       "(1.055090307491394, 0.9330834761008905)"
      ]
     },
     "execution_count": 440,
     "metadata": {},
     "output_type": "execute_result"
    }
   ],
   "source": [
    "tolstoj_s, news_s"
   ]
  },
  {
   "cell_type": "markdown",
   "metadata": {},
   "source": [
    "Они близки. Повторим предыдущий пункт, поменяв местами параметры и увеличив число степеней свободы в хи-квадрат на 1 (поскольку теперь используем параметры, не оценивавшиеся по выборке)"
   ]
  },
  {
   "cell_type": "code",
   "execution_count": 453,
   "metadata": {},
   "outputs": [],
   "source": [
    "tolstoj_intervals = make_splitting(get_probabilities(tolstoj_ranks, tolstoj_counts, news_s), \n",
    "                                   sum(tolstoj_counts))\n",
    "news_intervals = make_splitting(get_probabilities(news_ranks, news_counts, tolstoj_s), sum(news_counts))"
   ]
  },
  {
   "cell_type": "code",
   "execution_count": 454,
   "metadata": {},
   "outputs": [],
   "source": [
    "tolstoj_predicted = intervals_summing(get_probabilities(tolstoj_ranks, tolstoj_counts, news_s), \n",
    "                  tolstoj_intervals)\n",
    "news_predicted = intervals_summing(get_probabilities(news_ranks, news_counts, tolstoj_s), news_intervals)"
   ]
  },
  {
   "cell_type": "code",
   "execution_count": 455,
   "metadata": {},
   "outputs": [],
   "source": [
    "tolstoj_observed = intervals_summing(tolstoj_counts/sum(tolstoj_counts), tolstoj_intervals)\n",
    "news_observed = intervals_summing(news_counts/sum(news_counts), news_intervals)"
   ]
  },
  {
   "cell_type": "code",
   "execution_count": 458,
   "metadata": {},
   "outputs": [
    {
     "data": {
      "text/plain": [
       "(1.0, 1.0)"
      ]
     },
     "execution_count": 458,
     "metadata": {},
     "output_type": "execute_result"
    }
   ],
   "source": [
    "tolstoj_p = st.chisquare(tolstoj_observed, tolstoj_predicted)[1]\n",
    "news_p = st.chisquare(news_observed, news_predicted)[1]\n",
    "tolstoj_p, news_p"
   ]
  },
  {
   "cell_type": "markdown",
   "metadata": {},
   "source": [
    "# Вывод\n",
    "Таким образом, распределения слов в обоих документах подчиняются закону Ципфа. Поскольку найдены два значения параметра, такие что при каждом из них распределение частот не противоречит закону Ципфа, то опровергуть гипотезу о том, что истинные значения этого параметра могут иметь одинаквое значение, нельзя. Скорее всего, они на самом деле равны, ибо оба документа написаны на русском языке."
   ]
  }
 ],
 "metadata": {
  "kernelspec": {
   "display_name": "Python 3",
   "language": "python",
   "name": "python3"
  },
  "language_info": {
   "codemirror_mode": {
    "name": "ipython",
    "version": 3
   },
   "file_extension": ".py",
   "mimetype": "text/x-python",
   "name": "python",
   "nbconvert_exporter": "python",
   "pygments_lexer": "ipython3",
   "version": "3.7.3"
  }
 },
 "nbformat": 4,
 "nbformat_minor": 2
}
