{
 "cells": [
  {
   "cell_type": "code",
   "execution_count": 1,
   "metadata": {},
   "outputs": [],
   "source": [
    "import numpy as np\n",
    "import scipy.stats as st\n",
    "from nltk.translate import bleu_score\n",
    "from nltk.translate.bleu_score import sentence_bleu\n",
    "from nltk.translate.bleu_score import corpus_bleu"
   ]
  },
  {
   "cell_type": "code",
   "execution_count": 2,
   "metadata": {},
   "outputs": [],
   "source": [
    "with open('data/mt/de_en_1.txt', 'r', encoding=\"utf-8\") as f:\n",
    "    de_en_1 = f.readlines()\n",
    "    \n",
    "with open('data/mt/de_en_2.txt', 'r', encoding=\"utf-8\") as f:\n",
    "    de_en_2 = f.readlines()\n",
    "    \n",
    "with open('data/mt/de_en_gold.txt', 'r', encoding=\"utf-8\") as f:\n",
    "    de_en_gold = f.readlines()"
   ]
  },
  {
   "cell_type": "code",
   "execution_count": 3,
   "metadata": {},
   "outputs": [
    {
     "name": "stderr",
     "output_type": "stream",
     "text": [
      "[nltk_data] Downloading package punkt to\n",
      "[nltk_data]     C:\\Users\\Григорий\\AppData\\Roaming\\nltk_data...\n",
      "[nltk_data]   Package punkt is already up-to-date!\n"
     ]
    },
    {
     "data": {
      "text/plain": [
       "True"
      ]
     },
     "execution_count": 3,
     "metadata": {},
     "output_type": "execute_result"
    }
   ],
   "source": [
    "import nltk \n",
    "nltk.download('punkt')"
   ]
  },
  {
   "cell_type": "code",
   "execution_count": 4,
   "metadata": {},
   "outputs": [],
   "source": [
    "from nltk.tokenize import TweetTokenizer\n",
    "from nltk.tokenize import sent_tokenize, word_tokenize\n",
    "\n",
    "tok_de_en_1 = []\n",
    "for sent in de_en_1:\n",
    "    tok_de_en_1.append(word_tokenize(sent))\n",
    "\n",
    "tok_de_en_2 = []\n",
    "for sent in de_en_2:\n",
    "    tok_de_en_2.append(word_tokenize(sent))\n",
    "    \n",
    "tok_de_en_gold = []\n",
    "for sent in de_en_gold:\n",
    "    tok_de_en_gold.append(word_tokenize(sent))"
   ]
  },
  {
   "cell_type": "code",
   "execution_count": 63,
   "metadata": {},
   "outputs": [
    {
     "name": "stdout",
     "output_type": "stream",
     "text": [
      "['The', 'Anthony', 'Minghella', 'Theater', 'on', 'the', 'Isle', 'of', 'Wight', 'has', 'borne', 'its', 'name', 'since', '1997', '.'] ['His', 'was', 'honoured', 'with', 'the', 'naming', 'of', 'The', 'Anthony', 'Minghella', 'Theatre', 'at', 'the', 'Quay', 'Arts', 'Centre', '(', 'Isle', 'of', 'Wight', ')', '.']\n",
      "0.16441537576525564\n"
     ]
    }
   ],
   "source": [
    "from nltk.translate.bleu_score import SmoothingFunction\n",
    "print(tok_de_en_1[1], tok_de_en_gold[1])\n",
    "smoothie = SmoothingFunction().method4\n",
    "score = sentence_bleu([de_en_2], de_en_gold, smoothing_function=smoothie)\n",
    "print(score)"
   ]
  },
  {
   "cell_type": "code",
   "execution_count": 76,
   "metadata": {},
   "outputs": [
    {
     "data": {
      "text/plain": [
       "100"
      ]
     },
     "execution_count": 76,
     "metadata": {},
     "output_type": "execute_result"
    }
   ],
   "source": [
    "len(de_en_gold)"
   ]
  },
  {
   "cell_type": "code",
   "execution_count": 78,
   "metadata": {},
   "outputs": [
    {
     "name": "stdout",
     "output_type": "stream",
     "text": [
      "['The', 'Anthony', 'Minghella', 'Theater', 'on', 'the', 'Isle', 'of', 'Wight', 'has', 'borne', 'its', 'name', 'since', '1997', '.'] ['His', 'was', 'honoured', 'with', 'the', 'naming', 'of', 'The', 'Anthony', 'Minghella', 'Theatre', 'at', 'the', 'Quay', 'Arts', 'Centre', '(', 'Isle', 'of', 'Wight', ')', '.']\n",
      "0.29585722912765827\n"
     ]
    }
   ],
   "source": [
    "from nltk.translate.bleu_score import SmoothingFunction\n",
    "print(tok_de_en_1[1], tok_de_en_gold[1])\n",
    "smoothie = SmoothingFunction().method4\n",
    "score = 0\n",
    "for i in range(len(de_en_gold)):\n",
    "    score += sentence_bleu([tok_de_en_1[i]], tok_de_en_gold[i], smoothing_function=smoothie)\n",
    "print(score/len(de_en_1))"
   ]
  },
  {
   "cell_type": "code",
   "execution_count": 79,
   "metadata": {},
   "outputs": [
    {
     "name": "stdout",
     "output_type": "stream",
     "text": [
      "['The', 'Anthony', 'Minghella', 'Theater', 'on', 'the', 'Isle', 'of', 'Wight', 'has', 'borne', 'its', 'name', 'since', '1997', '.'] ['His', 'was', 'honoured', 'with', 'the', 'naming', 'of', 'The', 'Anthony', 'Minghella', 'Theatre', 'at', 'the', 'Quay', 'Arts', 'Centre', '(', 'Isle', 'of', 'Wight', ')', '.']\n",
      "0.31017288818433464\n"
     ]
    }
   ],
   "source": [
    "from nltk.translate.bleu_score import SmoothingFunction\n",
    "print(tok_de_en_1[1], tok_de_en_gold[1])\n",
    "smoothie = SmoothingFunction().method4\n",
    "score = 0\n",
    "for i in range(len(de_en_gold)):\n",
    "    score += sentence_bleu([tok_de_en_2[i]], tok_de_en_gold[i], smoothing_function=smoothie)\n",
    "print(score/len(de_en_1))"
   ]
  },
  {
   "cell_type": "code",
   "execution_count": 98,
   "metadata": {},
   "outputs": [],
   "source": [
    "pairs = ['de_en', 'en_kk', 'en_ru', 'ru_de', 'ru_kk']\n",
    "results = [['de_en', 0, 0], ['en_kk', 0, 0], ['en_ru', 0, 0], ['ru_de', 0, 0], ['ru_kk', 0, 0]]"
   ]
  },
  {
   "cell_type": "code",
   "execution_count": 106,
   "metadata": {},
   "outputs": [
    {
     "name": "stdout",
     "output_type": "stream",
     "text": [
      "0.8136357166601792\n",
      "0.8364094424879035\n"
     ]
    }
   ],
   "source": [
    "sc_1 = 0\n",
    "sc_2 = 0\n",
    "for i, name in enumerate(pairs):\n",
    "    with open('data/mt/' + name +'_1.txt', 'r', encoding=\"utf-8\") as f:\n",
    "        one = f.readlines()\n",
    "    with open('data/mt/' + name +'_2.txt', 'r', encoding=\"utf-8\") as f:\n",
    "        two = f.readlines()\n",
    "    with open('data/mt/' + name +'_gold.txt', 'r', encoding=\"utf-8\") as f:\n",
    "        gold = f.readlines()\n",
    "        \n",
    "    tok_one = []\n",
    "    for sent in one:\n",
    "        tok_one.append(word_tokenize(sent))\n",
    "\n",
    "    tok_two = []\n",
    "    for sent in two:\n",
    "        tok_two.append(word_tokenize(sent))\n",
    "\n",
    "    tok_gold = []\n",
    "    for sent in gold:\n",
    "        tok_gold.append(word_tokenize(sent))\n",
    "    \n",
    "    score_1 = 0\n",
    "\n",
    "    for j in range(len(gold)):\n",
    "        score_1 += sentence_bleu([tok_one[j]], tok_gold[j], smoothing_function=smoothie)\n",
    "    results [i][1] = score_1/len(de_en_1)\n",
    "    sc_1 += score_1/len(de_en_1)\n",
    "    \n",
    "    score_2 = 0\n",
    "    for j in range(len(gold)):\n",
    "        score_2 += sentence_bleu([tok_two[j]], tok_gold[j], smoothing_function=smoothie)\n",
    "    results [i][2] = score_2/len(de_en_1)\n",
    "    sc_2 += score_2/len(de_en_1)\n",
    "print (sc_1)\n",
    "print (sc_2)"
   ]
  },
  {
   "cell_type": "markdown",
   "metadata": {},
   "source": [
    "Второй чуть лучше."
   ]
  },
  {
   "cell_type": "code",
   "execution_count": 105,
   "metadata": {},
   "outputs": [
    {
     "data": {
      "text/plain": [
       "[['de_en', 0.29585722912765827, 0.31017288818433464],\n",
       " ['en_kk', 0.10544796630174735, 0.1026697944996778],\n",
       " ['en_ru', 0.19088041283261362, 0.20061048131076162],\n",
       " ['ru_de', 0.11174404438363082, 0.10522287147358358],\n",
       " ['ru_kk', 0.10970606401452909, 0.11773340701954597]]"
      ]
     },
     "execution_count": 105,
     "metadata": {},
     "output_type": "execute_result"
    }
   ],
   "source": [
    "results"
   ]
  },
  {
   "cell_type": "markdown",
   "metadata": {},
   "source": [
    "Но в целом разнятся от языка к языку."
   ]
  },
  {
   "cell_type": "code",
   "execution_count": null,
   "metadata": {},
   "outputs": [],
   "source": []
  }
 ],
 "metadata": {
  "kernelspec": {
   "display_name": "Python 3",
   "language": "python",
   "name": "python3"
  },
  "language_info": {
   "codemirror_mode": {
    "name": "ipython",
    "version": 3
   },
   "file_extension": ".py",
   "mimetype": "text/x-python",
   "name": "python",
   "nbconvert_exporter": "python",
   "pygments_lexer": "ipython3",
   "version": "3.7.1"
  }
 },
 "nbformat": 4,
 "nbformat_minor": 2
}
