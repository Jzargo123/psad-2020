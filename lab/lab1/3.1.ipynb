{
 "cells": [
  {
   "cell_type": "code",
   "execution_count": 4,
   "metadata": {},
   "outputs": [],
   "source": [
    "import numpy as np\n",
    "import matplotlib.pylab as plt\n",
    "%matplotlib inline\n",
    "import scipy.stats as st\n",
    "import seaborn as sns\n",
    "import pandas as pd"
   ]
  },
  {
   "cell_type": "code",
   "execution_count": 76,
   "metadata": {},
   "outputs": [],
   "source": [
    "# Эксперимент\n",
    "rs = np.random.RandomState(42)\n",
    "\n",
    "alpha = 0.05\n",
    "m = 10000\n",
    "m0 = 8500\n",
    "n = 20\n",
    "\n",
    "X = rs.randn(m,n)\n",
    "X[m0:]+=1"
   ]
  },
  {
   "cell_type": "markdown",
   "metadata": {},
   "source": [
    "### Без поправок"
   ]
  },
  {
   "cell_type": "code",
   "execution_count": 77,
   "metadata": {},
   "outputs": [
    {
     "name": "stdout",
     "output_type": "stream",
     "text": [
      "True: H0; H1 non-accepted: 8053\n",
      "True: H0; H0 rejected: 447\n",
      "True: H1; H1 non-accepted: 17\n",
      "True: H1; H0 rejected: 1483\n"
     ]
    }
   ],
   "source": [
    "# zero mean\n",
    "rejected = 0\n",
    "V = 0\n",
    "R = 0\n",
    "for x in X[:m0]:\n",
    "    if (st.ttest_1samp(x, 0)[1] <= alpha):\n",
    "        rejected += 1\n",
    "R += rejected\n",
    "V = rejected\n",
    "print ('True: H0; H1 non-accepted:', m0 - rejected)\n",
    "print ('True: H0; H0 rejected:', rejected)\n",
    "\n",
    "# non-zero mean\n",
    "rejected = 0\n",
    "for x in X[m0:]:\n",
    "    if (st.ttest_1samp(x, 0)[1] <= alpha):\n",
    "        rejected += 1\n",
    "R+= rejected\n",
    "print ('True: H1; H1 non-accepted:', m-m0 - rejected)\n",
    "print ('True: H1; H0 rejected:', rejected)"
   ]
  },
  {
   "cell_type": "code",
   "execution_count": 78,
   "metadata": {},
   "outputs": [
    {
     "name": "stdout",
     "output_type": "stream",
     "text": [
      "FDR =  0.23160621761658032\n"
     ]
    }
   ],
   "source": [
    "# наблюдаем за FDR\n",
    "FDR = V/R\n",
    "print(\"FDR = \", FDR)"
   ]
  },
  {
   "cell_type": "code",
   "execution_count": null,
   "metadata": {},
   "outputs": [],
   "source": [
    "#Без поправок при данной alpha работает не очень, если уменьшить alpha, будет лучше результат"
   ]
  },
  {
   "cell_type": "markdown",
   "metadata": {},
   "source": [
    "### Холм"
   ]
  },
  {
   "cell_type": "code",
   "execution_count": 79,
   "metadata": {},
   "outputs": [
    {
     "name": "stdout",
     "output_type": "stream",
     "text": [
      "V =  0 R =  187 FDR =  0.0\n"
     ]
    }
   ],
   "source": [
    "p_values = []\n",
    "for x in X:\n",
    "     p_values.append(st.ttest_1samp(x, 0)[1])     \n",
    "sorted_p = np.sort(np.array(p_values, dtype = float))\n",
    "\n",
    "V = 0\n",
    "R = 0\n",
    "# считаю R\n",
    "for i in range(m):\n",
    "    if (sorted_p[i] >= alpha/(m-i)):\n",
    "        where_stop = sorted_p[i]\n",
    "        break\n",
    "    else:\n",
    "        R += 1\n",
    "# Считаю V\n",
    "for x in X[:m0]:\n",
    "    if st.ttest_1samp(x, 0)[1] < where_stop:\n",
    "        V += 1\n",
    "FDR = V/R\n",
    "\n",
    "print(\"V = \", V, \"R = \", R, \"FDR = \", FDR)"
   ]
  },
  {
   "cell_type": "code",
   "execution_count": null,
   "metadata": {},
   "outputs": [],
   "source": [
    "# Получается маленькая FDR, но это потому что очень редко отвергаем гипотезу, только в очень маленьких p_value\n",
    "# Работает лучше при увеличении исходного alpha\n",
    "# Следующая поправка работает лучше"
   ]
  },
  {
   "cell_type": "markdown",
   "metadata": {},
   "source": [
    "###  Бенджамини-Хохберг"
   ]
  },
  {
   "cell_type": "code",
   "execution_count": 80,
   "metadata": {},
   "outputs": [
    {
     "name": "stdout",
     "output_type": "stream",
     "text": [
      "V =  67 R =  1435 FDR =  0.046689895470383276\n"
     ]
    }
   ],
   "source": [
    "p_values = []\n",
    "for x in X:\n",
    "     p_values.append(st.ttest_1samp(x, 0)[1])     \n",
    "sorted_p = np.sort(np.array(p_values, dtype = float))\n",
    "\n",
    "V = 0\n",
    "R = 0\n",
    "\n",
    "# считаю R\n",
    "for i in range(m):\n",
    "    if (sorted_p[i] >= alpha*(i+1)/m):\n",
    "        where_stop = sorted_p[i]\n",
    "        break\n",
    "    else:\n",
    "        R += 1\n",
    "# Считаю V\n",
    "for x in X[:m0]:\n",
    "    if st.ttest_1samp(x, 0)[1] < where_stop:\n",
    "        V += 1\n",
    "FDR = V/R\n",
    "\n",
    "print(\"V = \", V, \"R = \", R, \"FDR = \", FDR)"
   ]
  },
  {
   "cell_type": "code",
   "execution_count": null,
   "metadata": {},
   "outputs": [],
   "source": [
    "# Здесь намного лучше, отвергаем почти все которые нужно отвергнуть, и совсем немного отвергаем правильных \n",
    "#нулевых гипотез"
   ]
  }
 ],
 "metadata": {
  "kernelspec": {
   "display_name": "Python 3",
   "language": "python",
   "name": "python3"
  },
  "language_info": {
   "codemirror_mode": {
    "name": "ipython",
    "version": 3
   },
   "file_extension": ".py",
   "mimetype": "text/x-python",
   "name": "python",
   "nbconvert_exporter": "python",
   "pygments_lexer": "ipython3",
   "version": "3.7.3"
  }
 },
 "nbformat": 4,
 "nbformat_minor": 2
}
