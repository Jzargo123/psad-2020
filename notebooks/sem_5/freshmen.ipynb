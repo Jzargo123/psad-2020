{
 "cells": [
  {
   "cell_type": "markdown",
   "metadata": {},
   "source": [
    "# Успеваемость первокурсников\n",
    "\n",
    "Для 600 первокурсников известны показатели успеваемости по четырём предметам и результаты трёх психологических тестов. Как связаны эти два набора переменных?\n",
    "\n"
   ]
  },
  {
   "cell_type": "code",
   "execution_count": 4,
   "metadata": {},
   "outputs": [],
   "source": [
    "import numpy as np\n",
    "import matplotlib.pylab as plt\n",
    "import scipy.stats as st\n",
    "import seaborn as sns\n",
    "import pandas as pd\n",
    "%matplotlib inline"
   ]
  },
  {
   "cell_type": "code",
   "execution_count": 2,
   "metadata": {},
   "outputs": [],
   "source": [
    "data = pd.read_csv('./mmreg.csv')"
   ]
  },
  {
   "cell_type": "code",
   "execution_count": 3,
   "metadata": {},
   "outputs": [
    {
     "data": {
      "text/html": "<div>\n<style scoped>\n    .dataframe tbody tr th:only-of-type {\n        vertical-align: middle;\n    }\n\n    .dataframe tbody tr th {\n        vertical-align: top;\n    }\n\n    .dataframe thead th {\n        text-align: right;\n    }\n</style>\n<table border=\"1\" class=\"dataframe\">\n  <thead>\n    <tr style=\"text-align: right;\">\n      <th></th>\n      <th>locus_of_control</th>\n      <th>self_concept</th>\n      <th>motivation</th>\n      <th>read</th>\n      <th>write</th>\n      <th>math</th>\n      <th>science</th>\n    </tr>\n  </thead>\n  <tbody>\n    <tr>\n      <th>0</th>\n      <td>-0.84</td>\n      <td>-0.24</td>\n      <td>1.00</td>\n      <td>54.8</td>\n      <td>64.5</td>\n      <td>44.5</td>\n      <td>52.6</td>\n    </tr>\n    <tr>\n      <th>1</th>\n      <td>-0.38</td>\n      <td>-0.47</td>\n      <td>0.67</td>\n      <td>62.7</td>\n      <td>43.7</td>\n      <td>44.7</td>\n      <td>52.6</td>\n    </tr>\n    <tr>\n      <th>2</th>\n      <td>0.89</td>\n      <td>0.59</td>\n      <td>0.67</td>\n      <td>60.6</td>\n      <td>56.7</td>\n      <td>70.5</td>\n      <td>58.0</td>\n    </tr>\n    <tr>\n      <th>3</th>\n      <td>0.71</td>\n      <td>0.28</td>\n      <td>0.67</td>\n      <td>62.7</td>\n      <td>56.7</td>\n      <td>54.7</td>\n      <td>58.0</td>\n    </tr>\n    <tr>\n      <th>4</th>\n      <td>-0.64</td>\n      <td>0.03</td>\n      <td>1.00</td>\n      <td>41.6</td>\n      <td>46.3</td>\n      <td>38.4</td>\n      <td>36.3</td>\n    </tr>\n  </tbody>\n</table>\n</div>",
      "text/plain": "   locus_of_control  self_concept  motivation  read  write  math  science\n0             -0.84         -0.24        1.00  54.8   64.5  44.5     52.6\n1             -0.38         -0.47        0.67  62.7   43.7  44.7     52.6\n2              0.89          0.59        0.67  60.6   56.7  70.5     58.0\n3              0.71          0.28        0.67  62.7   56.7  54.7     58.0\n4             -0.64          0.03        1.00  41.6   46.3  38.4     36.3"
     },
     "execution_count": 3,
     "metadata": {},
     "output_type": "execute_result"
    }
   ],
   "source": [
    "data.head()"
   ]
  },
  {
   "cell_type": "code",
   "execution_count": null,
   "metadata": {},
   "outputs": [],
   "source": [
    "psych = data.loc[:, data.columns[:3]]\n",
    "psych.head()"
   ]
  },
  {
   "cell_type": "code",
   "execution_count": null,
   "metadata": {},
   "outputs": [],
   "source": [
    "acad = data.loc[:, data.columns[3:]]\n",
    "acad.head()"
   ]
  },
  {
   "cell_type": "code",
   "execution_count": null,
   "metadata": {},
   "outputs": [],
   "source": [
    "_ = sns.pairplot(psych)"
   ]
  },
  {
   "cell_type": "code",
   "execution_count": null,
   "metadata": {},
   "outputs": [],
   "source": [
    "_ = sns.pairplot(acad)"
   ]
  },
  {
   "cell_type": "markdown",
   "metadata": {},
   "source": [
    "## Попарные корреляции Пирсона:"
   ]
  },
  {
   "cell_type": "code",
   "execution_count": null,
   "metadata": {},
   "outputs": [],
   "source": [
    "np.corrcoef(acad.values.T)"
   ]
  },
  {
   "cell_type": "code",
   "execution_count": null,
   "metadata": {},
   "outputs": [],
   "source": [
    "_ = sns.heatmap(acad.corr(),annot= True,linewidths=0.5,fmt = \".1f\")"
   ]
  },
  {
   "cell_type": "code",
   "execution_count": null,
   "metadata": {},
   "outputs": [],
   "source": [
    "_ = sns.heatmap(psych.corr(),annot= True,linewidths=0.5,fmt = \".1f\")"
   ]
  },
  {
   "cell_type": "code",
   "execution_count": null,
   "metadata": {},
   "outputs": [],
   "source": [
    "_ = sns.heatmap(data.corr(),annot= True,linewidths=0.5,fmt = \".1f\")"
   ]
  },
  {
   "cell_type": "markdown",
   "metadata": {},
   "source": [
    "## Рассмотрим различные виды корреляций и их p-value:"
   ]
  },
  {
   "cell_type": "code",
   "execution_count": null,
   "metadata": {},
   "outputs": [],
   "source": [
    "for i in range(3):\n",
    "    for j in range(3,7):\n",
    "        print(data.columns[i], data.columns[j], st.pearsonr(data.loc[:, data.columns[i]], data.loc[:, data.columns[j]]))"
   ]
  },
  {
   "cell_type": "code",
   "execution_count": null,
   "metadata": {},
   "outputs": [],
   "source": [
    "for i in range(3):\n",
    "    for j in range(3,7):\n",
    "        print(data.columns[i], data.columns[j], tuple(st.spearmanr(data.loc[:, data.columns[i]], data.loc[:, data.columns[j]])))\n",
    "        "
   ]
  },
  {
   "cell_type": "code",
   "execution_count": null,
   "metadata": {},
   "outputs": [],
   "source": [
    "for i in range(3):\n",
    "    for j in range(3,7):\n",
    "        print(data.columns[i], data.columns[j], tuple(st.kendalltau(data.loc[:, data.columns[i]], data.loc[:, data.columns[j]])))\n",
    "        "
   ]
  }
 ],
 "metadata": {
  "kernelspec": {
   "display_name": "Python 3",
   "language": "python",
   "name": "python3"
  },
  "language_info": {
   "codemirror_mode": {
    "name": "ipython",
    "version": 3
   },
   "file_extension": ".py",
   "mimetype": "text/x-python",
   "name": "python",
   "nbconvert_exporter": "python",
   "pygments_lexer": "ipython3",
   "version": "3.7.6-final"
  }
 },
 "nbformat": 4,
 "nbformat_minor": 2
}